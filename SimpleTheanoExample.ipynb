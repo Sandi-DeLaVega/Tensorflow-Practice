{
  "nbformat": 4,
  "nbformat_minor": 0,
  "metadata": {
    "colab": {
      "name": "SimpleTheanoExample",
      "provenance": [],
      "collapsed_sections": [],
      "authorship_tag": "ABX9TyOAwq4giTVP8a633EGx4TCw",
      "include_colab_link": true
    },
    "kernelspec": {
      "name": "python3",
      "display_name": "Python 3"
    },
    "language_info": {
      "name": "python"
    }
  },
  "cells": [
    {
      "cell_type": "markdown",
      "metadata": {
        "id": "view-in-github",
        "colab_type": "text"
      },
      "source": [
        "<a href=\"https://colab.research.google.com/github/Sandi-DeLaVega/Tensorflow-Practice/blob/main/SimpleTheanoExample.ipynb\" target=\"_parent\"><img src=\"https://colab.research.google.com/assets/colab-badge.svg\" alt=\"Open In Colab\"/></a>"
      ]
    },
    {
      "cell_type": "code",
      "metadata": {
        "id": "BoaH0OQiJcu8"
      },
      "source": [
        "#Example of Theano Library\n",
        "import theano\n",
        "from theano import tensor"
      ],
      "execution_count": 1,
      "outputs": []
    },
    {
      "cell_type": "code",
      "metadata": {
        "id": "9Ua0soWDKOV0"
      },
      "source": [
        "#declare two symbolic floating-point scalars\n",
        "a = tensor.dscalar()\n",
        "b = tensor.dscalar()"
      ],
      "execution_count": 2,
      "outputs": []
    },
    {
      "cell_type": "code",
      "metadata": {
        "colab": {
          "base_uri": "https://localhost:8080/"
        },
        "id": "JGfLleEuKU7U",
        "outputId": "091625df-5d5e-42d3-ec1b-4cc38b3237f6"
      },
      "source": [
        "#Create a simple symbolic expression\n",
        "c = a + b\n",
        "#Convert the Expression into a Callable object that takes(a,b) and computes c\n",
        "f = theano.function([a,b], c)\n",
        "\n",
        "#bind 1.5 to 'a', 2.5 to 'b', and evaluate 'c'\n",
        "result = f(1.5, 2.5)\n",
        "print(result)"
      ],
      "execution_count": 3,
      "outputs": [
        {
          "output_type": "stream",
          "text": [
            "4.0\n"
          ],
          "name": "stdout"
        }
      ]
    }
  ]
}