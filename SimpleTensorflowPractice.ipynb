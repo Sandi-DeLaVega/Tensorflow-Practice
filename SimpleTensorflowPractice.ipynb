{
  "nbformat": 4,
  "nbformat_minor": 0,
  "metadata": {
    "colab": {
      "name": "SimpleTensorflowPractice",
      "provenance": [],
      "collapsed_sections": [],
      "authorship_tag": "ABX9TyMA4nNIWdsjosq+fvmKebHQ",
      "include_colab_link": true
    },
    "kernelspec": {
      "name": "python3",
      "display_name": "Python 3"
    },
    "language_info": {
      "name": "python"
    }
  },
  "cells": [
    {
      "cell_type": "markdown",
      "metadata": {
        "id": "view-in-github",
        "colab_type": "text"
      },
      "source": [
        "<a href=\"https://colab.research.google.com/github/Sandi-DeLaVega/Tensorflow-Practice/blob/main/SimpleTensorflowPractice.ipynb\" target=\"_parent\"><img src=\"https://colab.research.google.com/assets/colab-badge.svg\" alt=\"Open In Colab\"/></a>"
      ]
    },
    {
      "cell_type": "code",
      "metadata": {
        "colab": {
          "base_uri": "https://localhost:8080/"
        },
        "id": "wHxopobsOxTG",
        "outputId": "00c4453d-6125-45a1-9b64-fb392a0a9e04"
      },
      "source": [
        "import tensorflow.compat.v1 as tf\n",
        "tf.disable_v2_behavior()\n",
        "#Example of Tensorflow Library\n",
        "#import tensorflow as tf\n",
        "\n",
        "#declare two symbolic floating-point scalars\n",
        "a = tf.placeholder(tf.float32)\n",
        "b = tf.placeholder(tf.float32)\n",
        "\n",
        "#create a simple symbolic expression using the add funciton\n",
        "add = tf.add(a,b)\n",
        "\n",
        "#bind 1.5 to 'a', 2.5 to 'b', and evaluate 'c'\n",
        "sess = tf.Session()\n",
        "binding = {a: 1.5, b:2.5}\n",
        "c = sess.run(add, feed_dict = binding)\n",
        "print(c)"
      ],
      "execution_count": 5,
      "outputs": [
        {
          "output_type": "stream",
          "text": [
            "4.0\n"
          ],
          "name": "stdout"
        }
      ]
    }
  ]
}