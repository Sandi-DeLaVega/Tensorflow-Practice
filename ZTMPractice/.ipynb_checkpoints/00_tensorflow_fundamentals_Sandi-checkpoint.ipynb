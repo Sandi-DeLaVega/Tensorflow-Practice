{
 "cells": [
  {
   "cell_type": "code",
   "execution_count": 1,
   "id": "4619f39f",
   "metadata": {},
   "outputs": [
    {
     "ename": "ModuleNotFoundError",
     "evalue": "No module named 'tensorflow'",
     "output_type": "error",
     "traceback": [
      "\u001b[1;31m---------------------------------------------------------------------------\u001b[0m",
      "\u001b[1;31mModuleNotFoundError\u001b[0m                       Traceback (most recent call last)",
      "Input \u001b[1;32mIn [1]\u001b[0m, in \u001b[0;36m<module>\u001b[1;34m\u001b[0m\n\u001b[1;32m----> 1\u001b[0m \u001b[38;5;28;01mimport\u001b[39;00m \u001b[38;5;21;01mtensorflow\u001b[39;00m \u001b[38;5;28;01mas\u001b[39;00m \u001b[38;5;21;01mtf\u001b[39;00m\n",
      "\u001b[1;31mModuleNotFoundError\u001b[0m: No module named 'tensorflow'"
     ]
    }
   ],
   "source": [
    "import tensorflow as tf"
   ]
  },
  {
   "cell_type": "markdown",
   "id": "782c3396",
   "metadata": {},
   "source": [
    "# Import TensorFlow"
   ]
  },
  {
   "cell_type": "markdown",
   "id": "c3a3ec22",
   "metadata": {},
   "source": [
    "### Creating Tensors with `tf.constant()`"
   ]
  },
  {
   "cell_type": "code",
   "execution_count": null,
   "id": "d269036a",
   "metadata": {},
   "outputs": [],
   "source": [
    "# Create a scalar (rank 0 tensor)"
   ]
  },
  {
   "cell_type": "code",
   "execution_count": null,
   "id": "aeac9a69",
   "metadata": {},
   "outputs": [],
   "source": [
    "# Check the number of dimensions of a tensor (ndim stands for number of dimensions)"
   ]
  },
  {
   "cell_type": "code",
   "execution_count": null,
   "id": "3e9fd824",
   "metadata": {},
   "outputs": [],
   "source": [
    "# Create a vector (more than 0 dimensions)"
   ]
  },
  {
   "cell_type": "code",
   "execution_count": null,
   "id": "2a03c0a4",
   "metadata": {},
   "outputs": [],
   "source": [
    "# Check the number of dimensions of our vector tensor"
   ]
  },
  {
   "cell_type": "code",
   "execution_count": null,
   "id": "97216b49",
   "metadata": {},
   "outputs": [],
   "source": [
    "# Create a matrix (more than 1 dimension)"
   ]
  },
  {
   "cell_type": "code",
   "execution_count": null,
   "id": "34d6b780",
   "metadata": {},
   "outputs": [],
   "source": [
    "# Create another matrix and define the datatype"
   ]
  },
  {
   "cell_type": "code",
   "execution_count": null,
   "id": "096d9391",
   "metadata": {},
   "outputs": [],
   "source": [
    "# Even though another_matrix contains more numbers, its dimensions stay the same"
   ]
  },
  {
   "cell_type": "code",
   "execution_count": null,
   "id": "7e94f2b9",
   "metadata": {},
   "outputs": [],
   "source": [
    "# How about a tensor? (more than 2 dimensions, although, all of the above items are also technically tensors)"
   ]
  },
  {
   "cell_type": "markdown",
   "id": "e816bb79",
   "metadata": {},
   "source": [
    "### Creating Tensors with `tf.Variable()`"
   ]
  },
  {
   "cell_type": "code",
   "execution_count": null,
   "id": "7a2f35b2",
   "metadata": {},
   "outputs": [],
   "source": [
    "# Create the same tensor with tf.Variable() and tf.constant()"
   ]
  },
  {
   "cell_type": "code",
   "execution_count": null,
   "id": "034b81b8",
   "metadata": {},
   "outputs": [],
   "source": [
    "# Will error (requires the .assign() method)"
   ]
  },
  {
   "cell_type": "code",
   "execution_count": null,
   "id": "3addc7a8",
   "metadata": {},
   "outputs": [],
   "source": [
    "# Won't error"
   ]
  },
  {
   "cell_type": "code",
   "execution_count": null,
   "id": "6ef67e8f",
   "metadata": {},
   "outputs": [],
   "source": [
    "# Will error (can't change tf.constant())"
   ]
  },
  {
   "cell_type": "markdown",
   "id": "9d03b073",
   "metadata": {},
   "source": [
    "### Creating random tensors"
   ]
  },
  {
   "cell_type": "code",
   "execution_count": null,
   "id": "e1e09cbf",
   "metadata": {},
   "outputs": [],
   "source": [
    "# Create two random (but the same) tensors\n",
    "\n",
    "# Are they equal?"
   ]
  },
  {
   "cell_type": "code",
   "execution_count": null,
   "id": "c685f5fa",
   "metadata": {},
   "outputs": [],
   "source": [
    "# Create two random (and different) tensors\n",
    "\n",
    "# Check the tensors and see if they are equal"
   ]
  },
  {
   "cell_type": "code",
   "execution_count": null,
   "id": "c0408a4c",
   "metadata": {},
   "outputs": [],
   "source": []
  },
  {
   "cell_type": "code",
   "execution_count": null,
   "id": "394a9a64",
   "metadata": {},
   "outputs": [],
   "source": [
    "# Shuffle a tensor (valuable for when you want to shuffle your data)\n",
    "\n",
    "# Gets different results each time"
   ]
  },
  {
   "cell_type": "code",
   "execution_count": null,
   "id": "8745f763",
   "metadata": {},
   "outputs": [],
   "source": [
    "# Shuffle in the same order every time using the seed parameter (won't acutally be the same)"
   ]
  },
  {
   "cell_type": "code",
   "execution_count": null,
   "id": "7a9ab9e2",
   "metadata": {},
   "outputs": [],
   "source": [
    "# Shuffle in the same order every time\n",
    "\n",
    "# Set the global random seed\n",
    "\n",
    "\n",
    "# Set the operation random seed\n"
   ]
  },
  {
   "cell_type": "code",
   "execution_count": null,
   "id": "b9856ee3",
   "metadata": {},
   "outputs": [],
   "source": [
    "# Set the global random seed\n",
    "\n",
    "\n",
    "# Set the operation random seed\n"
   ]
  },
  {
   "cell_type": "markdown",
   "id": "971e032c",
   "metadata": {},
   "source": [
    "### Other ways to make tensors"
   ]
  },
  {
   "cell_type": "code",
   "execution_count": null,
   "id": "78eddfdb",
   "metadata": {},
   "outputs": [],
   "source": [
    "# Make a tensor of all ones"
   ]
  },
  {
   "cell_type": "code",
   "execution_count": null,
   "id": "22af19a2",
   "metadata": {},
   "outputs": [],
   "source": [
    "# Make a tensor of all zeros"
   ]
  },
  {
   "cell_type": "code",
   "execution_count": null,
   "id": "1dbf3ac4",
   "metadata": {},
   "outputs": [],
   "source": []
  },
  {
   "cell_type": "markdown",
   "id": "5f486011",
   "metadata": {},
   "source": [
    "## Getting information from tensors (shape, rank, size)"
   ]
  },
  {
   "cell_type": "code",
   "execution_count": null,
   "id": "676bc599",
   "metadata": {},
   "outputs": [],
   "source": [
    "# Create a rank 4 tensor (4 dimensions)"
   ]
  },
  {
   "cell_type": "code",
   "execution_count": null,
   "id": "c33451da",
   "metadata": {},
   "outputs": [],
   "source": []
  },
  {
   "cell_type": "code",
   "execution_count": null,
   "id": "48bcf6e6",
   "metadata": {},
   "outputs": [],
   "source": [
    "# Get various attributes of tensor"
   ]
  },
  {
   "cell_type": "code",
   "execution_count": null,
   "id": "5056a810",
   "metadata": {},
   "outputs": [],
   "source": [
    "# Get the first 2 items of each dimension"
   ]
  },
  {
   "cell_type": "code",
   "execution_count": null,
   "id": "ed146160",
   "metadata": {},
   "outputs": [],
   "source": [
    "# Get the dimension from each index except for the final one"
   ]
  },
  {
   "cell_type": "code",
   "execution_count": null,
   "id": "589acbdd",
   "metadata": {},
   "outputs": [],
   "source": [
    "# Create a rank 2 tensor (2 dimensions)\n",
    "\n",
    "# Get the last item of each row\n"
   ]
  },
  {
   "cell_type": "code",
   "execution_count": null,
   "id": "a77926fc",
   "metadata": {},
   "outputs": [],
   "source": [
    "# Add an extra dimension (to the end)"
   ]
  },
  {
   "cell_type": "markdown",
   "id": "b0e99165",
   "metadata": {},
   "source": [
    "## Manipulating tensors (tensor operations)"
   ]
  },
  {
   "cell_type": "markdown",
   "id": "2ded7255",
   "metadata": {},
   "source": [
    "### Basic operations"
   ]
  },
  {
   "cell_type": "code",
   "execution_count": null,
   "id": "6158c8ae",
   "metadata": {},
   "outputs": [],
   "source": [
    "# You can add values to a tensor using the addition operator"
   ]
  },
  {
   "cell_type": "code",
   "execution_count": null,
   "id": "95640144",
   "metadata": {},
   "outputs": [],
   "source": [
    "# Original tensor unchanged"
   ]
  },
  {
   "cell_type": "code",
   "execution_count": null,
   "id": "c65120fb",
   "metadata": {},
   "outputs": [],
   "source": [
    "# Multiplication (known as element-wise multiplication)"
   ]
  },
  {
   "cell_type": "code",
   "execution_count": null,
   "id": "3e81400a",
   "metadata": {},
   "outputs": [],
   "source": [
    "# Subtraction"
   ]
  },
  {
   "cell_type": "code",
   "execution_count": null,
   "id": "d40e9975",
   "metadata": {},
   "outputs": [],
   "source": [
    "# Use the tensorflow function equivalent of the '*' (multiply) operator"
   ]
  },
  {
   "cell_type": "code",
   "execution_count": null,
   "id": "dbc6fb80",
   "metadata": {},
   "outputs": [],
   "source": [
    "# The original tensor is still unchanged"
   ]
  },
  {
   "cell_type": "markdown",
   "id": "c26203d3",
   "metadata": {},
   "source": [
    "### Matrix mutliplication"
   ]
  },
  {
   "cell_type": "code",
   "execution_count": null,
   "id": "3b416c5d",
   "metadata": {},
   "outputs": [],
   "source": [
    "# Matrix multiplication in TensorFlow"
   ]
  },
  {
   "cell_type": "code",
   "execution_count": null,
   "id": "96668c7c",
   "metadata": {},
   "outputs": [],
   "source": [
    "# Matrix multiplication with Python operator '@'"
   ]
  },
  {
   "cell_type": "code",
   "execution_count": null,
   "id": "84437dc6",
   "metadata": {},
   "outputs": [],
   "source": [
    "# Create (3, 2) tensor\n",
    "X = \n",
    "\n",
    "# Create another (3, 2) tensor\n",
    "Y = \n",
    "\n",
    "X, Y"
   ]
  },
  {
   "cell_type": "code",
   "execution_count": null,
   "id": "69092f0f",
   "metadata": {},
   "outputs": [],
   "source": [
    "# Try to matrix multiply them (will error)"
   ]
  },
  {
   "cell_type": "code",
   "execution_count": null,
   "id": "968012b3",
   "metadata": {},
   "outputs": [],
   "source": [
    "# Example of reshape (3, 2) -> (2, 3)"
   ]
  },
  {
   "cell_type": "code",
   "execution_count": null,
   "id": "08252ae7",
   "metadata": {},
   "outputs": [],
   "source": [
    "# Try matrix multiplication with reshaped Y"
   ]
  },
  {
   "cell_type": "code",
   "execution_count": null,
   "id": "fd6772c6",
   "metadata": {},
   "outputs": [],
   "source": [
    "# Example of transpose (3, 2) -> (2, 3)"
   ]
  },
  {
   "cell_type": "code",
   "execution_count": null,
   "id": "ca014807",
   "metadata": {},
   "outputs": [],
   "source": [
    "# Try matrix multiplication "
   ]
  },
  {
   "cell_type": "code",
   "execution_count": null,
   "id": "2abda974",
   "metadata": {},
   "outputs": [],
   "source": [
    "# You can achieve the same result with parameters"
   ]
  },
  {
   "cell_type": "markdown",
   "id": "e07f4204",
   "metadata": {},
   "source": [
    "### The dot product"
   ]
  },
  {
   "cell_type": "code",
   "execution_count": null,
   "id": "8e3a78ad",
   "metadata": {},
   "outputs": [],
   "source": [
    "# Perform the dot product on X and Y (requires X to be transposed)"
   ]
  },
  {
   "cell_type": "code",
   "execution_count": null,
   "id": "c93d6d4e",
   "metadata": {},
   "outputs": [],
   "source": [
    "# Perform matrix multiplication between X and Y (transposed)"
   ]
  },
  {
   "cell_type": "code",
   "execution_count": null,
   "id": "1c1f4c76",
   "metadata": {},
   "outputs": [],
   "source": [
    "# Perform matrix multiplication between X and Y (reshaped)"
   ]
  },
  {
   "cell_type": "code",
   "execution_count": null,
   "id": "cfebc99c",
   "metadata": {},
   "outputs": [],
   "source": [
    "# Check shapes of Y, reshaped Y and tranposed Y"
   ]
  },
  {
   "cell_type": "code",
   "execution_count": null,
   "id": "5fe4c864",
   "metadata": {},
   "outputs": [],
   "source": [
    "# Check values of Y, reshape Y and tranposed Y"
   ]
  },
  {
   "cell_type": "markdown",
   "id": "a1a89d6a",
   "metadata": {},
   "source": [
    "### Matrix multiplication tidbits"
   ]
  },
  {
   "cell_type": "markdown",
   "id": "449d7971",
   "metadata": {},
   "source": [
    "### Changing the datatype of a tensor"
   ]
  },
  {
   "cell_type": "code",
   "execution_count": null,
   "id": "be0ddff5",
   "metadata": {},
   "outputs": [],
   "source": [
    "# Create a new tensor with default datatype (float32)\n",
    "\n",
    "# Create a new tensor with default datatype (int32)"
   ]
  },
  {
   "cell_type": "code",
   "execution_count": null,
   "id": "1aa2eaa5",
   "metadata": {},
   "outputs": [],
   "source": [
    "# Change from float32 to float16 (reduced precision)"
   ]
  },
  {
   "cell_type": "code",
   "execution_count": null,
   "id": "4bf1921d",
   "metadata": {},
   "outputs": [],
   "source": [
    "# Change from int32 to float32"
   ]
  },
  {
   "cell_type": "markdown",
   "id": "21807a59",
   "metadata": {},
   "source": [
    "### Getting the absolute value"
   ]
  },
  {
   "cell_type": "code",
   "execution_count": null,
   "id": "6e22924a",
   "metadata": {},
   "outputs": [],
   "source": [
    "# Create tensor with negative values"
   ]
  },
  {
   "cell_type": "code",
   "execution_count": null,
   "id": "5bd5d1e8",
   "metadata": {},
   "outputs": [],
   "source": [
    "# Get the absolute values"
   ]
  },
  {
   "cell_type": "markdown",
   "id": "b28c0315",
   "metadata": {},
   "source": [
    "### Finding the min, max, mean, sum (aggregation)"
   ]
  },
  {
   "cell_type": "code",
   "execution_count": null,
   "id": "df1fb886",
   "metadata": {},
   "outputs": [],
   "source": [
    "# Create a tensor with 50 random values between 0 and 100"
   ]
  },
  {
   "cell_type": "code",
   "execution_count": null,
   "id": "7f7c7c11",
   "metadata": {},
   "outputs": [],
   "source": [
    "# Find the minimum"
   ]
  },
  {
   "cell_type": "code",
   "execution_count": null,
   "id": "a63129ab",
   "metadata": {},
   "outputs": [],
   "source": [
    "# Find the maximum"
   ]
  },
  {
   "cell_type": "code",
   "execution_count": null,
   "id": "ee3a2d67",
   "metadata": {},
   "outputs": [],
   "source": [
    "# Find the mean"
   ]
  },
  {
   "cell_type": "code",
   "execution_count": null,
   "id": "a67b0e31",
   "metadata": {},
   "outputs": [],
   "source": [
    "# Find the sum"
   ]
  },
  {
   "cell_type": "markdown",
   "id": "9fa9f735",
   "metadata": {},
   "source": [
    "### Finding the positional maximum and minimum"
   ]
  },
  {
   "cell_type": "code",
   "execution_count": null,
   "id": "c1277781",
   "metadata": {},
   "outputs": [],
   "source": [
    "# Create a tensor with 50 values between 0 and 1"
   ]
  },
  {
   "cell_type": "code",
   "execution_count": null,
   "id": "ba1f5be5",
   "metadata": {},
   "outputs": [],
   "source": [
    "# Find the maximum element position of F"
   ]
  },
  {
   "cell_type": "code",
   "execution_count": null,
   "id": "825fc3a4",
   "metadata": {},
   "outputs": [],
   "source": [
    "# Find the minimum element position of F"
   ]
  },
  {
   "cell_type": "code",
   "execution_count": null,
   "id": "ee4e8530",
   "metadata": {},
   "outputs": [],
   "source": [
    "# Find the maximum element position of F"
   ]
  },
  {
   "cell_type": "markdown",
   "id": "3b2b6b66",
   "metadata": {},
   "source": [
    "### Squeezing a tensor (removing all single dimensions)"
   ]
  },
  {
   "cell_type": "code",
   "execution_count": null,
   "id": "b76454de",
   "metadata": {},
   "outputs": [],
   "source": [
    "# Create a rank 5 (5 dimensions) tensor of 50 numbers between 0 and 100"
   ]
  },
  {
   "cell_type": "code",
   "execution_count": null,
   "id": "6d742263",
   "metadata": {},
   "outputs": [],
   "source": [
    "# Squeeze tensor G (remove all 1 dimensions)"
   ]
  },
  {
   "cell_type": "markdown",
   "id": "d0773ad4",
   "metadata": {},
   "source": [
    "### One-hot encoding"
   ]
  },
  {
   "cell_type": "code",
   "execution_count": null,
   "id": "cab3770b",
   "metadata": {},
   "outputs": [],
   "source": [
    "# Create a list of indices\n",
    "\n",
    "\n",
    "# One hot encode them\n",
    "\n"
   ]
  },
  {
   "cell_type": "code",
   "execution_count": null,
   "id": "d6908568",
   "metadata": {},
   "outputs": [],
   "source": [
    "# Specify custom values for on and off encoding"
   ]
  },
  {
   "cell_type": "markdown",
   "id": "ed728c37",
   "metadata": {},
   "source": [
    "### Squaring, log, square root"
   ]
  },
  {
   "cell_type": "code",
   "execution_count": null,
   "id": "a3a0723c",
   "metadata": {},
   "outputs": [],
   "source": [
    "# Create a new tensor"
   ]
  },
  {
   "cell_type": "code",
   "execution_count": null,
   "id": "f9243b4e",
   "metadata": {},
   "outputs": [],
   "source": [
    "# Square it"
   ]
  },
  {
   "cell_type": "code",
   "execution_count": null,
   "id": "3a403e0a",
   "metadata": {},
   "outputs": [],
   "source": [
    "# Find the squareroot (will error), needs to be non-integer"
   ]
  },
  {
   "cell_type": "code",
   "execution_count": null,
   "id": "fb381c4f",
   "metadata": {},
   "outputs": [],
   "source": [
    "# Change H to float32"
   ]
  },
  {
   "cell_type": "code",
   "execution_count": null,
   "id": "d62f37c7",
   "metadata": {},
   "outputs": [],
   "source": [
    "# Find the square root"
   ]
  },
  {
   "cell_type": "code",
   "execution_count": null,
   "id": "ec5a4255",
   "metadata": {},
   "outputs": [],
   "source": [
    "# Find the log (input also needs to be float)"
   ]
  },
  {
   "cell_type": "markdown",
   "id": "690282c8",
   "metadata": {},
   "source": [
    "### Manipulating `tf.Variable` tensors"
   ]
  },
  {
   "cell_type": "code",
   "execution_count": null,
   "id": "28af7a2a",
   "metadata": {},
   "outputs": [],
   "source": [
    "# Create a variable tensor"
   ]
  },
  {
   "cell_type": "code",
   "execution_count": null,
   "id": "ad09d4e1",
   "metadata": {},
   "outputs": [],
   "source": [
    "# Assign the final value a new value of 50"
   ]
  },
  {
   "cell_type": "code",
   "execution_count": null,
   "id": "a2d4b39e",
   "metadata": {},
   "outputs": [],
   "source": [
    "# The change happens in place (the last value is now 50, not 4)"
   ]
  },
  {
   "cell_type": "code",
   "execution_count": null,
   "id": "1f002fc6",
   "metadata": {},
   "outputs": [],
   "source": [
    "# Add 10 to every element in I"
   ]
  },
  {
   "cell_type": "code",
   "execution_count": null,
   "id": "2be59a93",
   "metadata": {},
   "outputs": [],
   "source": [
    "# Again, the change happens in place"
   ]
  },
  {
   "cell_type": "markdown",
   "id": "db86524b",
   "metadata": {},
   "source": [
    "## Tensors and NumPy"
   ]
  },
  {
   "cell_type": "code",
   "execution_count": null,
   "id": "95e0f5fb",
   "metadata": {},
   "outputs": [],
   "source": [
    "# Create a tensor from a NumPy array"
   ]
  },
  {
   "cell_type": "code",
   "execution_count": null,
   "id": "c5dd4f17",
   "metadata": {},
   "outputs": [],
   "source": [
    "# Convert tensor J to NumPy with np.array()"
   ]
  },
  {
   "cell_type": "code",
   "execution_count": null,
   "id": "286ee21a",
   "metadata": {},
   "outputs": [],
   "source": [
    "# Convert tensor J to NumPy with .numpy()"
   ]
  },
  {
   "cell_type": "code",
   "execution_count": null,
   "id": "bf696b4a",
   "metadata": {},
   "outputs": [],
   "source": [
    "# Create a tensor from NumPy and from an array"
   ]
  },
  {
   "cell_type": "markdown",
   "id": "20335352",
   "metadata": {},
   "source": [
    "## Using `@tf.function`"
   ]
  },
  {
   "cell_type": "code",
   "execution_count": null,
   "id": "fd4f5aa6",
   "metadata": {},
   "outputs": [],
   "source": [
    "# Create a simple function"
   ]
  },
  {
   "cell_type": "code",
   "execution_count": null,
   "id": "21bb53ab",
   "metadata": {},
   "outputs": [],
   "source": [
    "# Create the same function and decorate it with tf.function"
   ]
  },
  {
   "cell_type": "markdown",
   "id": "d130b7a1",
   "metadata": {},
   "source": [
    "## Finding access to GPUs"
   ]
  },
  {
   "cell_type": "code",
   "execution_count": null,
   "id": "f3a729f1",
   "metadata": {},
   "outputs": [],
   "source": []
  },
  {
   "cell_type": "code",
   "execution_count": null,
   "id": "46f6a6a3",
   "metadata": {},
   "outputs": [],
   "source": []
  },
  {
   "cell_type": "code",
   "execution_count": null,
   "id": "947fc428",
   "metadata": {},
   "outputs": [],
   "source": []
  },
  {
   "cell_type": "code",
   "execution_count": null,
   "id": "d7af90e2",
   "metadata": {},
   "outputs": [],
   "source": []
  },
  {
   "cell_type": "code",
   "execution_count": null,
   "id": "9134bb56",
   "metadata": {},
   "outputs": [],
   "source": []
  },
  {
   "cell_type": "code",
   "execution_count": null,
   "id": "f0aefaf1",
   "metadata": {},
   "outputs": [],
   "source": []
  }
 ],
 "metadata": {
  "kernelspec": {
   "display_name": "Python 3 (ipykernel)",
   "language": "python",
   "name": "python3"
  },
  "language_info": {
   "codemirror_mode": {
    "name": "ipython",
    "version": 3
   },
   "file_extension": ".py",
   "mimetype": "text/x-python",
   "name": "python",
   "nbconvert_exporter": "python",
   "pygments_lexer": "ipython3",
   "version": "3.10.2"
  }
 },
 "nbformat": 4,
 "nbformat_minor": 5
}
