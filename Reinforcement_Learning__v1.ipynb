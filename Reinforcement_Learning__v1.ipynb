{
  "nbformat": 4,
  "nbformat_minor": 0,
  "metadata": {
    "colab": {
      "name": "Reinforcement Learning _v1.ipynb",
      "provenance": [],
      "collapsed_sections": [],
      "authorship_tag": "ABX9TyPba0/WLAYWG//QjrzfXxb9",
      "include_colab_link": true
    },
    "kernelspec": {
      "name": "python3",
      "display_name": "Python 3"
    },
    "language_info": {
      "name": "python"
    }
  },
  "cells": [
    {
      "cell_type": "markdown",
      "metadata": {
        "id": "view-in-github",
        "colab_type": "text"
      },
      "source": [
        "<a href=\"https://colab.research.google.com/github/Sandi-DeLaVega/Tensorflow-Practice/blob/main/Reinforcement_Learning__v1.ipynb\" target=\"_parent\"><img src=\"https://colab.research.google.com/assets/colab-badge.svg\" alt=\"Open In Colab\"/></a>"
      ]
    },
    {
      "cell_type": "markdown",
      "metadata": {
        "id": "B9X-jpkyoojA"
      },
      "source": [
        "#Reinforcement Learning"
      ]
    },
    {
      "cell_type": "markdown",
      "metadata": {
        "id": "dwm43EEootcb"
      },
      "source": [
        "### we let our model come up with its own examples by exploring an environment\n",
        " Humans learn by exploring and learning from mistakes and past experiences so let's have our computer do the same."
      ]
    },
    {
      "cell_type": "markdown",
      "metadata": {
        "id": "s91XsIBOooFR"
      },
      "source": [
        "#Terminology"
      ]
    },
    {
      "cell_type": "markdown",
      "metadata": {
        "id": "UPqEofFeo30m"
      },
      "source": [
        "* Environment: \n",
        "  * In reinforcement learning tasks we have a notion of the enviornment. \n",
        "  * This is what our agent will explore. \n",
        "    * An example of an enviornment in the case of training an AI to play say a game of mario would be the level we are training the agent on.\n",
        "\n",
        "* Agent:\n",
        "  * an agent is an entity that is exploring the enviornment. \n",
        "  * Our agent will interact and take different actions within the enviornment.  \n",
        "    * In our mario example the mario character within the game would be our agent.\n",
        "\n",
        "* State:\n",
        "  * always our agent will be in what we call a state. \n",
        "  * The state simply tells us about the status of the agent. \n",
        "  * The most common example of a state is the location of the agent within the enviornment. \n",
        "  * Moving locations would change the agents state.\n",
        "\n",
        "* Action: \n",
        "  * any interaction between the agent and enviornment would be considered an action. \n",
        "    * For example, moving to the left or jumping would be an action. \n",
        "  * An action may or may not change the current state of the agent. \n",
        "    * In fact, the act of doing nothing is an action as well! \n",
        "    * The action of say not pressing a key if we are using our mario example.\n",
        "\n",
        "Reward every action that our agent takes will result in a reward of some magnitude (positive or negative). \n",
        "\n",
        "### Goal of Agent: maximize its reward in an environment. \n",
        "\n",
        "### Important Part of Reinforcement Learning: determing how to reward the agent. \n",
        "After all, the goal of the agent is to maximize its rewards. This means we should reward the agent appropiatly such that it reaches the desired goal."
      ]
    },
    {
      "cell_type": "markdown",
      "metadata": {
        "id": "Ew-P_qECrZad"
      },
      "source": [
        "#Q-Learning"
      ]
    },
    {
      "cell_type": "markdown",
      "metadata": {
        "id": "BnqC1mB8rcXD"
      },
      "source": [
        "* a simple yet quite powerful technique in machine learning that involves learning a matrix of action-reward values.\n",
        "* This matrix is often refered to as a Q-Table or Q-Matrix. \n",
        "* The matrix is in shape (number of possible states, number of possible actions) where each value at matrix[n, m] represents the agents expected reward given they are in state n and take action m. \n",
        "\n",
        "**The Q-learning algorithm defines the way we update the values in the matrix and decide what action to take at each state**. \n",
        "\n",
        "After a succesful training/learning of this Q-Table/matrix:\n",
        "  * we can determine the action an agent should take in any state by looking at that states row in the matrix and taking the maximium value column as the action.\n",
        "\n",
        "Consider this example.\n",
        "\n",
        "Let's say A1-A4 are the possible actions and we have 3 states represented by each row (state 1 - state 3).\n",
        "\n",
        "A1\tA2\tA3\tA4\n",
        "---\n",
        "0\t    0\t    10\t 5\n",
        "---\n",
        "5\t    10\t  0\t   0\n",
        "---\n",
        "10\t  5\t    0\t   0\n",
        "---\n",
        "\n",
        "\n",
        "If that was our Q-Table/matrix then the following would be the preffered actions in each state.\n",
        "\n",
        "State 1: A3\n",
        "State 2: A2\n",
        "State 3: A1\n"
      ]
    },
    {
      "cell_type": "markdown",
      "metadata": {
        "id": "mSM1JyuZsX5p"
      },
      "source": [
        "#Learning the Q-Table"
      ]
    },
    {
      "cell_type": "markdown",
      "metadata": {
        "id": "MQmR_BJWsiJf"
      },
      "source": [
        "use the agent has yet to learn anything about the enviornment.\n",
        "\n",
        "Our agent learns by exploring the enviornment and observing the outcome/reward from each action it takes in each state. But how does it know what action to take in each state? There are two ways that our agent can decide on which action to take.\n",
        "\n",
        "1.  Randomly picking a valid action\n",
        "2.  Using the current Q-Table to find the best action.\n",
        "\n",
        "Near the beginning of our agents learning it will mostly take random actions in order to explore the enviornment and enter many different states. As it starts to explore more of the enviornment it will start to gradually rely more on it's learned values (Q-Table) to take actions. This means that as our agent explores more of the enviornment it will develop a better understanding and start to take \"correct\" or better actions more often. It's important that the agent has a good balance of taking random actions and using learned values to ensure it does get trapped in a local maximum.\n",
        "\n",
        "After each new action our agent wil record the new state (if any) that it has entered and the reward that it recieved from taking that action. These values will be used to update the Q-Table. The agent will stop taking new actions only once a certain time limit is reached or it has acheived the goal or reached the end of the enviornment.\n",
        "\n",
        "Updating Q-Values\n",
        "The formula for updating the Q-Table after each action is as follows:\n",
        "\n",
        "Q[state,action] = Q[state,action] + α∗(reward + γ∗max(Q[newState,:]) − Q[state,action]) \n",
        "\n",
        "α = stands for the Learning Rate\n",
        "γ = stands for the Discount Factor\n",
        "\n",
        "* Learning Rate  α \n",
        "The learning rate  α  is a numeric constant that defines how much change is permitted on each QTable update. \n",
        "A high learning rate means that each update will introduce a large change to the current state-action value. \n",
        "A small learning rate means that each update has a more subtle change. Modifying the learning rate will change how the agent explores the enviornment and how quickly it determines the final values in the QTable.\n",
        "\n",
        "* Discount Factor  γ \n",
        "Discount factor also know as gamma ( γ ) is used to balance how much focus is put on the current and future reward. \n",
        "A high discount factor means that future rewards will be considered more heavily.\n",
        "\n",
        "\n",
        "To perform updates on this table we will let the agent explpore the environment for a certain period of time and use each of its actions to make an update. Slowly we should start to notice the agent learning and choosing better actions."
      ]
    },
    {
      "cell_type": "markdown",
      "metadata": {
        "id": "WsyU_UHmsYwj"
      },
      "source": [
        "Q-Learning Example: The Open AI Gym was developed so programmers could practice machine learning using unique environments."
      ]
    },
    {
      "cell_type": "code",
      "metadata": {
        "id": "FeiISwG7seqL"
      },
      "source": [
        "import gym   # all you have to do to import and use open ai gym!"
      ],
      "execution_count": 5,
      "outputs": []
    },
    {
      "cell_type": "code",
      "metadata": {
        "id": "h7iyvHymsetL"
      },
      "source": [
        "env = gym.make('FrozenLake-v0')  # we are going to use the FrozenLake enviornment"
      ],
      "execution_count": 6,
      "outputs": []
    },
    {
      "cell_type": "code",
      "metadata": {
        "colab": {
          "base_uri": "https://localhost:8080/"
        },
        "id": "woLGXutHsev0",
        "outputId": "00ea1855-a9a5-4acc-b45b-f8d812501107"
      },
      "source": [
        "print(env.observation_space.n)   # get number of states\n",
        "print(env.action_space.n)   # get number of actions"
      ],
      "execution_count": 7,
      "outputs": [
        {
          "output_type": "stream",
          "text": [
            "16\n",
            "4\n"
          ],
          "name": "stdout"
        }
      ]
    },
    {
      "cell_type": "code",
      "metadata": {
        "colab": {
          "base_uri": "https://localhost:8080/"
        },
        "id": "0W5q6NAjseyl",
        "outputId": "06a30b79-027f-47fa-d212-b08c721ebd17"
      },
      "source": [
        "env.reset()  # reset enviornment to default state"
      ],
      "execution_count": 8,
      "outputs": [
        {
          "output_type": "execute_result",
          "data": {
            "text/plain": [
              "0"
            ]
          },
          "metadata": {
            "tags": []
          },
          "execution_count": 8
        }
      ]
    },
    {
      "cell_type": "code",
      "metadata": {
        "id": "vR2d5-n5se1L"
      },
      "source": [
        "action = env.action_space.sample()  # get a random action "
      ],
      "execution_count": 9,
      "outputs": []
    },
    {
      "cell_type": "code",
      "metadata": {
        "id": "V3bC1Mhase38"
      },
      "source": [
        "new_state, reward, done, info = env.step(action)  # take action, notice it returns information about the action"
      ],
      "execution_count": 10,
      "outputs": []
    },
    {
      "cell_type": "code",
      "metadata": {
        "colab": {
          "base_uri": "https://localhost:8080/"
        },
        "id": "ReN2QS9_se6W",
        "outputId": "2a060a56-dcfa-4cb5-8bac-a62bf4d980db"
      },
      "source": [
        "env.render()   # render the GUI for the enviornment "
      ],
      "execution_count": 11,
      "outputs": [
        {
          "output_type": "stream",
          "text": [
            "  (Up)\n",
            "\u001b[41mS\u001b[0mFFF\n",
            "FHFH\n",
            "FFFH\n",
            "HFFG\n"
          ],
          "name": "stdout"
        }
      ]
    },
    {
      "cell_type": "markdown",
      "metadata": {
        "id": "ybJDb9LbtTbP"
      },
      "source": [
        "#Frozen Lake Enviornment"
      ]
    },
    {
      "cell_type": "markdown",
      "metadata": {
        "id": "8hvFdHJHtVkz"
      },
      "source": [
        "Now that we have a basic understanding of how the gym enviornment works it's time to discuss the specific problem we will be solving.\n",
        "\n",
        "The environment we loaded above FrozenLake-v0 is one of the simplest enviornments in Open AI Gym. The goal of the agent is to navigate a frozen lake and find the Goal without falling through the ice (render the enviornment above to see an example).\n",
        "\n",
        "There are:\n",
        "\n",
        "16 states (one for each square)\n",
        "4 possible actions (LEFT, RIGHT, DOWN, UP)\n",
        "4 different types of blocks (F: frozen, H: hole, S: start, G: goal)"
      ]
    },
    {
      "cell_type": "markdown",
      "metadata": {
        "id": "axBZF00Tt5ic"
      },
      "source": [
        "#Building the Q-Table\n",
        "build an empty Q-Table that we can use to store and update our values"
      ]
    },
    {
      "cell_type": "code",
      "metadata": {
        "id": "e85XEhvhvKqe"
      },
      "source": [
        "import gym\n",
        "import numpy as np\n",
        "import time\n",
        "\n",
        "env = gym.make('FrozenLake-v0')\n",
        "STATES = env.observation_space.n\n",
        "ACTIONS = env.action_space.n"
      ],
      "execution_count": 12,
      "outputs": []
    },
    {
      "cell_type": "code",
      "metadata": {
        "colab": {
          "base_uri": "https://localhost:8080/"
        },
        "id": "s971wlWfvM7g",
        "outputId": "0161508b-b1ef-43ec-a8fd-8cf78d4d66bc"
      },
      "source": [
        "Q = np.zeros((STATES, ACTIONS))  # create a matrix with all 0 values \n",
        "Q"
      ],
      "execution_count": 13,
      "outputs": [
        {
          "output_type": "execute_result",
          "data": {
            "text/plain": [
              "array([[0., 0., 0., 0.],\n",
              "       [0., 0., 0., 0.],\n",
              "       [0., 0., 0., 0.],\n",
              "       [0., 0., 0., 0.],\n",
              "       [0., 0., 0., 0.],\n",
              "       [0., 0., 0., 0.],\n",
              "       [0., 0., 0., 0.],\n",
              "       [0., 0., 0., 0.],\n",
              "       [0., 0., 0., 0.],\n",
              "       [0., 0., 0., 0.],\n",
              "       [0., 0., 0., 0.],\n",
              "       [0., 0., 0., 0.],\n",
              "       [0., 0., 0., 0.],\n",
              "       [0., 0., 0., 0.],\n",
              "       [0., 0., 0., 0.],\n",
              "       [0., 0., 0., 0.]])"
            ]
          },
          "metadata": {
            "tags": []
          },
          "execution_count": 13
        }
      ]
    },
    {
      "cell_type": "markdown",
      "metadata": {
        "id": "M3SuEFrPvQ6i"
      },
      "source": [
        "#Constants\n",
        "define some constants that will be used to update our Q-Table and tell our agent when to stop training"
      ]
    },
    {
      "cell_type": "code",
      "metadata": {
        "id": "LxbkJaXcvVRV"
      },
      "source": [
        "EPISODES = 2000 # how many times to run the enviornment from the beginning\n",
        "MAX_STEPS = 100  # max number of steps allowed for each run of enviornment\n",
        "\n",
        "LEARNING_RATE = 0.81  # learning rate\n",
        "GAMMA = 0.96"
      ],
      "execution_count": 14,
      "outputs": []
    },
    {
      "cell_type": "markdown",
      "metadata": {
        "id": "64EK1brAvWc1"
      },
      "source": [
        "#Picking an Action\n",
        "Remember that we can pick an action using one of two methods:\n",
        "\n",
        "Randomly picking a valid action\n",
        "Using the current Q-Table to find the best action.\n",
        "Here we will define a new value  ϵ  that will tell us the probabillity of selecting a random action. This value will start off very high and slowly decrease as the agent learns more about the enviornment."
      ]
    },
    {
      "cell_type": "code",
      "metadata": {
        "id": "onTphCX5wd_D"
      },
      "source": [
        "epsilon = 0.9  # start with a 90% chance of picking a random action\n",
        "\n",
        "# code to pick action\n",
        "if np.random.uniform(0, 1) < epsilon:  # we will check if a randomly selected value is less than epsilon.\n",
        "    action = env.action_space.sample()  # take random action\n",
        "else:\n",
        "    action = np.argmax(Q[state, :])  # use Q table to pick best action based on current values"
      ],
      "execution_count": 16,
      "outputs": []
    },
    {
      "cell_type": "markdown",
      "metadata": {
        "id": "TTesyAtMwgpU"
      },
      "source": [
        "#Updating Q Values"
      ]
    },
    {
      "cell_type": "markdown",
      "metadata": {
        "id": "9JYWWbUaw4WB"
      },
      "source": [
        "Q[state, action] = Q[state, action] + LEARNING_RATE * (reward + GAMMA * np.max(Q[new_state, :]) - Q[state, action])"
      ]
    },
    {
      "cell_type": "markdown",
      "metadata": {
        "id": "WLjGRYoCwjC9"
      },
      "source": [
        "\n",
        "\n",
        "#Putting it Together"
      ]
    },
    {
      "cell_type": "code",
      "metadata": {
        "id": "CKmu2psAw0nM"
      },
      "source": [
        "import gym\n",
        "import numpy as np\n",
        "import time\n",
        "\n",
        "env = gym.make('FrozenLake-v0')\n",
        "STATES = env.observation_space.n\n",
        "ACTIONS = env.action_space.n\n",
        "\n",
        "Q = np.zeros((STATES, ACTIONS))\n",
        "\n",
        "EPISODES = 1500 # how many times to run the enviornment from the beginning\n",
        "MAX_STEPS = 100  # max number of steps allowed for each run of enviornment\n",
        "\n",
        "LEARNING_RATE = 0.81  # learning rate\n",
        "GAMMA = 0.96\n",
        "\n",
        "RENDER = False # if you want to see training set to true\n",
        "\n",
        "epsilon = 0.9\n"
      ],
      "execution_count": 18,
      "outputs": []
    },
    {
      "cell_type": "code",
      "metadata": {
        "colab": {
          "base_uri": "https://localhost:8080/"
        },
        "id": "R_oXuFTqw2_V",
        "outputId": "a9312771-cc59-4617-e3fe-fd51eddc72c8"
      },
      "source": [
        "rewards = []\n",
        "for episode in range(EPISODES):\n",
        "\n",
        "  state = env.reset()\n",
        "  for _ in range(MAX_STEPS):\n",
        "    \n",
        "    if RENDER:\n",
        "      env.render()\n",
        "\n",
        "    if np.random.uniform(0, 1) < epsilon:\n",
        "      action = env.action_space.sample()  \n",
        "    else:\n",
        "      action = np.argmax(Q[state, :])\n",
        "\n",
        "    next_state, reward, done, _ = env.step(action)\n",
        "\n",
        "    Q[state, action] = Q[state, action] + LEARNING_RATE * (reward + GAMMA * np.max(Q[next_state, :]) - Q[state, action])\n",
        "\n",
        "    state = next_state\n",
        "\n",
        "    if done: \n",
        "      rewards.append(reward)\n",
        "      epsilon -= 0.001\n",
        "      break  # reached goal\n",
        "\n",
        "print(Q)\n",
        "print(f\"Average reward: {sum(rewards)/len(rewards)}:\")\n",
        "# and now we can see our Q values!"
      ],
      "execution_count": 19,
      "outputs": [
        {
          "output_type": "stream",
          "text": [
            "[[3.66364086e-01 1.89112848e-02 1.51976170e-02 1.90837356e-02]\n",
            " [2.96879294e-03 1.78453995e-02 1.47873389e-02 2.14110972e-01]\n",
            " [4.95918626e-03 8.71540965e-03 1.61394295e-02 1.82081511e-01]\n",
            " [1.14799378e-02 3.48953777e-03 1.31378279e-02 1.41543655e-01]\n",
            " [5.45359672e-01 6.21910176e-03 9.13630599e-03 6.78586525e-03]\n",
            " [0.00000000e+00 0.00000000e+00 0.00000000e+00 0.00000000e+00]\n",
            " [3.05606090e-05 4.08049635e-05 1.42244527e-01 1.26795831e-04]\n",
            " [0.00000000e+00 0.00000000e+00 0.00000000e+00 0.00000000e+00]\n",
            " [7.72853406e-03 2.49405715e-03 3.01839777e-03 7.00022928e-01]\n",
            " [3.52693890e-03 7.97486409e-01 5.56386200e-03 4.06134808e-03]\n",
            " [8.59585642e-01 3.85977821e-04 9.45650475e-04 6.46958602e-04]\n",
            " [0.00000000e+00 0.00000000e+00 0.00000000e+00 0.00000000e+00]\n",
            " [0.00000000e+00 0.00000000e+00 0.00000000e+00 0.00000000e+00]\n",
            " [5.27689950e-03 8.92542182e-02 8.03877882e-01 7.79916365e-02]\n",
            " [1.16497943e-01 9.81660926e-01 5.16065432e-02 1.26126266e-01]\n",
            " [0.00000000e+00 0.00000000e+00 0.00000000e+00 0.00000000e+00]]\n",
            "Average reward: 0.30733333333333335:\n"
          ],
          "name": "stdout"
        }
      ]
    },
    {
      "cell_type": "code",
      "metadata": {
        "colab": {
          "base_uri": "https://localhost:8080/",
          "height": 278
        },
        "id": "VYKRqos2w-bC",
        "outputId": "21deeca0-9e5e-4c90-eeb2-39ff30d6a0c7"
      },
      "source": [
        "# we can plot the training progress and see how the agent improved\n",
        "import matplotlib.pyplot as plt\n",
        "\n",
        "def get_average(values):\n",
        "  return sum(values)/len(values)\n",
        "\n",
        "avg_rewards = []\n",
        "for i in range(0, len(rewards), 100):\n",
        "  avg_rewards.append(get_average(rewards[i:i+100])) \n",
        "\n",
        "plt.plot(avg_rewards)\n",
        "plt.ylabel('average reward')\n",
        "plt.xlabel('episodes (100\\'s)')\n",
        "plt.show()"
      ],
      "execution_count": 20,
      "outputs": [
        {
          "output_type": "display_data",
          "data": {
            "image/png": "[encoded data removed]",
            "text/plain": [
              "<Figure size 432x288 with 1 Axes>"
            ]
          },
          "metadata": {
            "tags": [],
            "needs_background": "light"
          }
        }
      ]
    }
  ]
}