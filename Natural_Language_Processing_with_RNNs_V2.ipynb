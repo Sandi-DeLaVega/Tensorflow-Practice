{
  "nbformat": 4,
  "nbformat_minor": 0,
  "metadata": {
    "colab": {
      "name": "Natural Language Processing with RNNs_V2.ipynb",
      "provenance": [],
      "collapsed_sections": [],
      "authorship_tag": "ABX9TyNCsFyBMlVo42uYNB43CdW0",
      "include_colab_link": true
    },
    "kernelspec": {
      "name": "python3",
      "display_name": "Python 3"
    },
    "language_info": {
      "name": "python"
    }
  },
  "cells": [
    {
      "cell_type": "markdown",
      "metadata": {
        "id": "view-in-github",
        "colab_type": "text"
      },
      "source": [
        "<a href=\"https://colab.research.google.com/github/Sandi-DeLaVega/Tensorflow-Practice/blob/main/Natural_Language_Processing_with_RNNs_V2.ipynb\" target=\"_parent\"><img src=\"https://colab.research.google.com/assets/colab-badge.svg\" alt=\"Open In Colab\"/></a>"
      ]
    },
    {
      "cell_type": "markdown",
      "metadata": {
        "id": "xET2PULz9b9d"
      },
      "source": [
        "#Natural Language Processing"
      ]
    },
    {
      "cell_type": "markdown",
      "metadata": {
        "id": "8uwRuXZK9dfI"
      },
      "source": [
        "### Natural Language Processing (or NLP for short) is a discipline in computing that deals with the communication between natural (human) languages and computer languages. \n",
        "\n",
        "Example of NLP:\n",
        "\n",
        "*   Spellcheck\n",
        "*   Autocomplete\n",
        "\n",
        "### Essentially NLP is the field that focuses on how computers can understand and/or process natural/human languages."
      ]
    },
    {
      "cell_type": "markdown",
      "metadata": {
        "id": "F88DeWs49d6s"
      },
      "source": [
        "#Recurrent Neural Networks"
      ]
    },
    {
      "cell_type": "markdown",
      "metadata": {
        "id": "h7qjY33x9eBL"
      },
      "source": [
        "how to use a reccurent neural network to do the following:\n",
        "* Sentiment Analysis\n",
        "* Character Generation\n",
        "\n",
        "\n"
      ]
    },
    {
      "cell_type": "markdown",
      "metadata": {
        "id": "7uv-9LEN9eaX"
      },
      "source": [
        "#Sequence Data"
      ]
    },
    {
      "cell_type": "markdown",
      "metadata": {
        "id": "-Rp6L9eJ9pST"
      },
      "source": [
        "Need to Track of where each of the words appear and use that information to try to understand the meaning of pieces of text"
      ]
    },
    {
      "cell_type": "markdown",
      "metadata": {
        "id": "BsLM6-_jZfCt"
      },
      "source": [
        "#Encoding Text"
      ]
    },
    {
      "cell_type": "markdown",
      "metadata": {
        "id": "sNA0rpao9sHf"
      },
      "source": [
        "##Bag of Words"
      ]
    },
    {
      "cell_type": "markdown",
      "metadata": {
        "id": "P9z6ou8c9viL"
      },
      "source": [
        "* First and simplest way to encode our data. <br>\n",
        "* Each word in a sentence is encoded with an integer and thrown into a collection that does not maintain the order of the words but does keep track of the frequency"
      ]
    },
    {
      "cell_type": "code",
      "metadata": {
        "id": "N4jAiyM59xK0",
        "colab": {
          "base_uri": "https://localhost:8080/"
        },
        "outputId": "2952416e-22e3-4b10-d4a2-6a96744c2874"
      },
      "source": [
        "vocab = {}  # maps word to integer representing it\n",
        "word_encoding = 1\n",
        "def bag_of_words(text):\n",
        "  global word_encoding\n",
        "\n",
        "  words = text.lower().split(\" \")  # create a list of all of the words in the text, well assume there is no grammar in our text for this example\n",
        "  bag = {}  # stores all of the encodings and their frequency\n",
        "\n",
        "  for word in words:\n",
        "    if word in vocab:\n",
        "      encoding = vocab[word]  # get encoding from vocab\n",
        "    else:\n",
        "      vocab[word] = word_encoding\n",
        "      encoding = word_encoding\n",
        "      word_encoding += 1\n",
        "    \n",
        "    if encoding in bag:\n",
        "      bag[encoding] += 1\n",
        "    else:\n",
        "      bag[encoding] = 1\n",
        "  \n",
        "  return bag\n",
        "\n",
        "text = \"this is a test to see if this test will work is is test a a\"\n",
        "bag = bag_of_words(text)\n",
        "print(bag)\n",
        "print(vocab)"
      ],
      "execution_count": 1,
      "outputs": [
        {
          "output_type": "stream",
          "text": [
            "{1: 2, 2: 3, 3: 3, 4: 3, 5: 1, 6: 1, 7: 1, 8: 1, 9: 1}\n",
            "{'this': 1, 'is': 2, 'a': 3, 'test': 4, 'to': 5, 'see': 6, 'if': 7, 'will': 8, 'work': 9}\n"
          ],
          "name": "stdout"
        }
      ]
    },
    {
      "cell_type": "markdown",
      "metadata": {
        "id": "Ahf1_CVK92UC"
      },
      "source": [
        "Example of Bag of Words Encoding"
      ]
    },
    {
      "cell_type": "code",
      "metadata": {
        "id": "iqhJBpXT92rx",
        "colab": {
          "base_uri": "https://localhost:8080/"
        },
        "outputId": "8a1e58b5-8570-4033-9d7f-ee372216ca85"
      },
      "source": [
        "positive_review = \"I thought the movie was going to be bad but it was actually amazing\"\n",
        "negative_review = \"I thought the movie was going to be amazing but it was actually bad\"\n",
        "\n",
        "pos_bag = bag_of_words(positive_review)\n",
        "neg_bag = bag_of_words(negative_review)\n",
        "\n",
        "print(\"Positive:\", pos_bag)\n",
        "print(\"Negative:\", neg_bag)"
      ],
      "execution_count": 2,
      "outputs": [
        {
          "output_type": "stream",
          "text": [
            "Positive: {10: 1, 11: 1, 12: 1, 13: 1, 14: 2, 15: 1, 5: 1, 16: 1, 17: 1, 18: 1, 19: 1, 20: 1, 21: 1}\n",
            "Negative: {10: 1, 11: 1, 12: 1, 13: 1, 14: 2, 15: 1, 5: 1, 16: 1, 21: 1, 18: 1, 19: 1, 20: 1, 17: 1}\n"
          ],
          "name": "stdout"
        }
      ]
    },
    {
      "cell_type": "markdown",
      "metadata": {
        "id": "F3NulyRc93jd"
      },
      "source": [
        "#Integer Encoding\n",
        " representing each word or character in a sentence as a unique integer and maintaining the order of these words"
      ]
    },
    {
      "cell_type": "code",
      "metadata": {
        "colab": {
          "base_uri": "https://localhost:8080/"
        },
        "id": "FO2xQTSga8Tb",
        "outputId": "0acfd2cd-2bf4-461a-fbb3-78972061dbe2"
      },
      "source": [
        "vocab = {}  \n",
        "word_encoding = 1\n",
        "def one_hot_encoding(text):\n",
        "  global word_encoding\n",
        "\n",
        "  words = text.lower().split(\" \") \n",
        "  encoding = []  \n",
        "\n",
        "  for word in words:\n",
        "    if word in vocab:\n",
        "      code = vocab[word]  \n",
        "      encoding.append(code) \n",
        "    else:\n",
        "      vocab[word] = word_encoding\n",
        "      encoding.append(word_encoding)\n",
        "      word_encoding += 1\n",
        "  \n",
        "  return encoding\n",
        "\n",
        "text = \"this is a test to see if this test will work is is test a a\"\n",
        "encoding = one_hot_encoding(text)\n",
        "print(encoding)\n",
        "print(vocab)"
      ],
      "execution_count": 3,
      "outputs": [
        {
          "output_type": "stream",
          "text": [
            "[1, 2, 3, 4, 5, 6, 7, 1, 4, 8, 9, 2, 2, 4, 3, 3]\n",
            "{'this': 1, 'is': 2, 'a': 3, 'test': 4, 'to': 5, 'see': 6, 'if': 7, 'will': 8, 'work': 9}\n"
          ],
          "name": "stdout"
        }
      ]
    },
    {
      "cell_type": "code",
      "metadata": {
        "colab": {
          "base_uri": "https://localhost:8080/"
        },
        "id": "BnYAJGSTa-5c",
        "outputId": "4f323005-e40b-482d-c627-ed17ddfd0f26"
      },
      "source": [
        "positive_review = \"I thought the movie was going to be bad but it was actually amazing\"\n",
        "negative_review = \"I thought the movie was going to be amazing but it was actually bad\"\n",
        "\n",
        "pos_encode = one_hot_encoding(positive_review)\n",
        "neg_encode = one_hot_encoding(negative_review)\n",
        "\n",
        "print(\"Positive:\", pos_encode)\n",
        "print(\"Negative:\", neg_encode)"
      ],
      "execution_count": 4,
      "outputs": [
        {
          "output_type": "stream",
          "text": [
            "Positive: [10, 11, 12, 13, 14, 15, 5, 16, 17, 18, 19, 14, 20, 21]\n",
            "Negative: [10, 11, 12, 13, 14, 15, 5, 16, 21, 18, 19, 14, 20, 17]\n"
          ],
          "name": "stdout"
        }
      ]
    },
    {
      "cell_type": "markdown",
      "metadata": {
        "id": "R2LT5SorbLKr"
      },
      "source": [
        "#Word Embeddings"
      ]
    },
    {
      "cell_type": "markdown",
      "metadata": {
        "id": "K5GPzuIzbMMJ"
      },
      "source": [
        "* keeps the order of words intact as well as encodes similar words with very similar labels. \n",
        "* encode the frequency and order of words but the meaning of those words in the sentence. \n",
        "* encodes each word as a dense vector that represents its context in the sentence.\n",
        "* add embedding layer to the beggining of your model and while your model trains your embedding layer will learn the correct embeddings for words"
      ]
    },
    {
      "cell_type": "markdown",
      "metadata": {
        "id": "l8rVklpEbc0t"
      },
      "source": [
        "# Recurrent Neural Networks (RNN's)"
      ]
    },
    {
      "cell_type": "markdown",
      "metadata": {
        "id": "6eVdaxI8bfur"
      },
      "source": [
        "* will process one word at a time while maintaining an internal memory of what it's already seen\n",
        "* allow it to treat words differently based on their order in a sentence and to slowly build an understanding of the entire input, one word at a time"
      ]
    },
    {
      "cell_type": "markdown",
      "metadata": {
        "id": "IFrSEcsZbvUy"
      },
      "source": [
        "![image.png](data:image/png;base64,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)"
      ]
    },
    {
      "cell_type": "markdown",
      "metadata": {
        "id": "9AOVS3pxbv5z"
      },
      "source": [
        "Let the ff be:\n",
        "* ht output at time t\n",
        "* xt input at time t\n",
        "* A Recurrent Layer (loop)\n",
        "\n",
        "\n",
        "\n",
        "\n"
      ]
    },
    {
      "cell_type": "markdown",
      "metadata": {
        "id": "xTU2c3fwcFcj"
      },
      "source": [
        "#LSTM"
      ]
    },
    {
      "cell_type": "markdown",
      "metadata": {
        "id": "Ej1IlYHbcGvU"
      },
      "source": [
        "##Long Short-Term Memory\n",
        "* works very similarily to the simpleRNN layer but adds a way to access inputs from any timestep in the past\n",
        "* have a long-term memory data structure storing all the previously seen inputs as well as when we saw them\n",
        "* allows for us to access any previous value we want at any point in time\n",
        "* adds to the complexity of our network and allows it to discover more useful relationships between inputs and when they appear"
      ]
    },
    {
      "cell_type": "markdown",
      "metadata": {
        "id": "Zpk-WmXGcZjZ"
      },
      "source": [
        "#Sentiment Analysis"
      ]
    },
    {
      "cell_type": "markdown",
      "metadata": {
        "id": "ugNzo3o9ca5m"
      },
      "source": [
        "From Wikipedia:\n",
        "* the process of computationally identifying and categorizing opinions expressed in a piece of text, especially in order to determine whether the writer's attitude towards a particular topic, product, etc. is positive, negative, or neutral."
      ]
    },
    {
      "cell_type": "markdown",
      "metadata": {
        "id": "4b1lSbQ5cjK8"
      },
      "source": [
        "#Movie Review Dataset"
      ]
    },
    {
      "cell_type": "markdown",
      "metadata": {
        "id": "PKABBAi8cj8x"
      },
      "source": [
        "This dataset contains 25,000 reviews from IMDB where each one is already preprocessed and has a label as either positive or negative.\n",
        "Each review is encoded by integers that represents how common a word is in the entire dataset.\n"
      ]
    },
    {
      "cell_type": "code",
      "metadata": {
        "colab": {
          "base_uri": "https://localhost:8080/"
        },
        "id": "AKj2S_Qded7z",
        "outputId": "5a011a3b-4c25-4e51-a783-6b299392cd3a"
      },
      "source": [
        "%tensorflow_version 2.x \n",
        "from keras.datasets import imdb\n",
        "from keras.preprocessing import sequence\n",
        "import keras\n",
        "import tensorflow as tf\n",
        "import os\n",
        "import numpy as np\n",
        "\n",
        "VOCAB_SIZE = 88584\n",
        "\n",
        "MAXLEN = 250\n",
        "BATCH_SIZE = 64\n",
        "\n",
        "(train_data, train_labels), (test_data, test_labels) = imdb.load_data(num_words = VOCAB_SIZE)"
      ],
      "execution_count": 5,
      "outputs": [
        {
          "output_type": "stream",
          "text": [
            "<string>:6: VisibleDeprecationWarning: Creating an ndarray from ragged nested sequences (which is a list-or-tuple of lists-or-tuples-or ndarrays with different lengths or shapes) is deprecated. If you meant to do this, you must specify 'dtype=object' when creating the ndarray\n",
            "/usr/local/lib/python3.7/dist-packages/tensorflow/python/keras/datasets/imdb.py:159: VisibleDeprecationWarning: Creating an ndarray from ragged nested sequences (which is a list-or-tuple of lists-or-tuples-or ndarrays with different lengths or shapes) is deprecated. If you meant to do this, you must specify 'dtype=object' when creating the ndarray\n",
            "  x_train, y_train = np.array(xs[:idx]), np.array(labels[:idx])\n",
            "/usr/local/lib/python3.7/dist-packages/tensorflow/python/keras/datasets/imdb.py:160: VisibleDeprecationWarning: Creating an ndarray from ragged nested sequences (which is a list-or-tuple of lists-or-tuples-or ndarrays with different lengths or shapes) is deprecated. If you meant to do this, you must specify 'dtype=object' when creating the ndarray\n",
            "  x_test, y_test = np.array(xs[idx:]), np.array(labels[idx:])\n"
          ],
          "name": "stderr"
        }
      ]
    },
    {
      "cell_type": "code",
      "metadata": {
        "colab": {
          "base_uri": "https://localhost:8080/"
        },
        "id": "RGNB_getfLDy",
        "outputId": "3112273d-5e4d-4207-80ee-a1d2d8f69c9e"
      },
      "source": [
        "#Looking at one review\n",
        "train_data[1]"
      ],
      "execution_count": 6,
      "outputs": [
        {
          "output_type": "execute_result",
          "data": {
            "text/plain": [
              "[1,\n",
              " 194,\n",
              " 1153,\n",
              " 194,\n",
              " 8255,\n",
              " 78,\n",
              " 228,\n",
              " 5,\n",
              " 6,\n",
              " 1463,\n",
              " 4369,\n",
              " 5012,\n",
              " 134,\n",
              " 26,\n",
              " 4,\n",
              " 715,\n",
              " 8,\n",
              " 118,\n",
              " 1634,\n",
              " 14,\n",
              " 394,\n",
              " 20,\n",
              " 13,\n",
              " 119,\n",
              " 954,\n",
              " 189,\n",
              " 102,\n",
              " 5,\n",
              " 207,\n",
              " 110,\n",
              " 3103,\n",
              " 21,\n",
              " 14,\n",
              " 69,\n",
              " 188,\n",
              " 8,\n",
              " 30,\n",
              " 23,\n",
              " 7,\n",
              " 4,\n",
              " 249,\n",
              " 126,\n",
              " 93,\n",
              " 4,\n",
              " 114,\n",
              " 9,\n",
              " 2300,\n",
              " 1523,\n",
              " 5,\n",
              " 647,\n",
              " 4,\n",
              " 116,\n",
              " 9,\n",
              " 35,\n",
              " 8163,\n",
              " 4,\n",
              " 229,\n",
              " 9,\n",
              " 340,\n",
              " 1322,\n",
              " 4,\n",
              " 118,\n",
              " 9,\n",
              " 4,\n",
              " 130,\n",
              " 4901,\n",
              " 19,\n",
              " 4,\n",
              " 1002,\n",
              " 5,\n",
              " 89,\n",
              " 29,\n",
              " 952,\n",
              " 46,\n",
              " 37,\n",
              " 4,\n",
              " 455,\n",
              " 9,\n",
              " 45,\n",
              " 43,\n",
              " 38,\n",
              " 1543,\n",
              " 1905,\n",
              " 398,\n",
              " 4,\n",
              " 1649,\n",
              " 26,\n",
              " 6853,\n",
              " 5,\n",
              " 163,\n",
              " 11,\n",
              " 3215,\n",
              " 10156,\n",
              " 4,\n",
              " 1153,\n",
              " 9,\n",
              " 194,\n",
              " 775,\n",
              " 7,\n",
              " 8255,\n",
              " 11596,\n",
              " 349,\n",
              " 2637,\n",
              " 148,\n",
              " 605,\n",
              " 15358,\n",
              " 8003,\n",
              " 15,\n",
              " 123,\n",
              " 125,\n",
              " 68,\n",
              " 23141,\n",
              " 6853,\n",
              " 15,\n",
              " 349,\n",
              " 165,\n",
              " 4362,\n",
              " 98,\n",
              " 5,\n",
              " 4,\n",
              " 228,\n",
              " 9,\n",
              " 43,\n",
              " 36893,\n",
              " 1157,\n",
              " 15,\n",
              " 299,\n",
              " 120,\n",
              " 5,\n",
              " 120,\n",
              " 174,\n",
              " 11,\n",
              " 220,\n",
              " 175,\n",
              " 136,\n",
              " 50,\n",
              " 9,\n",
              " 4373,\n",
              " 228,\n",
              " 8255,\n",
              " 5,\n",
              " 25249,\n",
              " 656,\n",
              " 245,\n",
              " 2350,\n",
              " 5,\n",
              " 4,\n",
              " 9837,\n",
              " 131,\n",
              " 152,\n",
              " 491,\n",
              " 18,\n",
              " 46151,\n",
              " 32,\n",
              " 7464,\n",
              " 1212,\n",
              " 14,\n",
              " 9,\n",
              " 6,\n",
              " 371,\n",
              " 78,\n",
              " 22,\n",
              " 625,\n",
              " 64,\n",
              " 1382,\n",
              " 9,\n",
              " 8,\n",
              " 168,\n",
              " 145,\n",
              " 23,\n",
              " 4,\n",
              " 1690,\n",
              " 15,\n",
              " 16,\n",
              " 4,\n",
              " 1355,\n",
              " 5,\n",
              " 28,\n",
              " 6,\n",
              " 52,\n",
              " 154,\n",
              " 462,\n",
              " 33,\n",
              " 89,\n",
              " 78,\n",
              " 285,\n",
              " 16,\n",
              " 145,\n",
              " 95]"
            ]
          },
          "metadata": {
            "tags": []
          },
          "execution_count": 6
        }
      ]
    },
    {
      "cell_type": "markdown",
      "metadata": {
        "id": "vEyGPFAifPGu"
      },
      "source": [
        "###More Preprocessing\n",
        "* Some reviews are of different lengths.\n",
        "* Cannot pass Different Length data into Neural Network\n",
        "\n",
        "### Make Each Review of the Same Length\n",
        "#Procedure:\n",
        "* If the review is > 250 words, trim off the extra words\n",
        "* If review < 250 words, add necessary 0's to make it equal to 250"
      ]
    },
    {
      "cell_type": "code",
      "metadata": {
        "id": "qu0H5FjTgOjb"
      },
      "source": [
        "train_data = sequence.pad_sequences(train_data, MAXLEN)\n",
        "test_data = sequence.pad_sequences(test_data, MAXLEN)"
      ],
      "execution_count": 7,
      "outputs": []
    },
    {
      "cell_type": "markdown",
      "metadata": {
        "id": "46O4hUS_gQSc"
      },
      "source": [
        "#Creating the Model"
      ]
    },
    {
      "cell_type": "markdown",
      "metadata": {
        "id": "46rqC3OlgT3C"
      },
      "source": [
        "use a word embedding layer as the first layer in our model and add a LSTM layer afterwards that feeds into a dense node to get our predicted sentiment\n",
        "\n",
        "32 stands for the output dimension of the vectors generated by the embedding layer"
      ]
    },
    {
      "cell_type": "code",
      "metadata": {
        "id": "dMYYrzIlgayH"
      },
      "source": [
        "model = tf.keras.Sequential([\n",
        "    tf.keras.layers.Embedding(VOCAB_SIZE, 32),\n",
        "    tf.keras.layers.LSTM(32),\n",
        "    tf.keras.layers.Dense(1, activation=\"sigmoid\")\n",
        "])"
      ],
      "execution_count": 8,
      "outputs": []
    },
    {
      "cell_type": "code",
      "metadata": {
        "colab": {
          "base_uri": "https://localhost:8080/"
        },
        "id": "vdaWXPYugbjm",
        "outputId": "2ac733cc-6e34-4885-927c-3cbed28bd33f"
      },
      "source": [
        "model.summary()"
      ],
      "execution_count": 9,
      "outputs": [
        {
          "output_type": "stream",
          "text": [
            "Model: \"sequential\"\n",
            "_________________________________________________________________\n",
            "Layer (type)                 Output Shape              Param #   \n",
            "=================================================================\n",
            "embedding (Embedding)        (None, None, 32)          2834688   \n",
            "_________________________________________________________________\n",
            "lstm (LSTM)                  (None, 32)                8320      \n",
            "_________________________________________________________________\n",
            "dense (Dense)                (None, 1)                 33        \n",
            "=================================================================\n",
            "Total params: 2,843,041\n",
            "Trainable params: 2,843,041\n",
            "Non-trainable params: 0\n",
            "_________________________________________________________________\n"
          ],
          "name": "stdout"
        }
      ]
    },
    {
      "cell_type": "markdown",
      "metadata": {
        "id": "1kHriwXbgdgo"
      },
      "source": [
        "#Training"
      ]
    },
    {
      "cell_type": "code",
      "metadata": {
        "colab": {
          "base_uri": "https://localhost:8080/"
        },
        "id": "b66Wekn5ggc_",
        "outputId": "89473656-2a15-4d68-a012-bec7b9136c69"
      },
      "source": [
        "model.compile(loss=\"binary_crossentropy\",optimizer=\"rmsprop\",metrics=['acc'])\n",
        "\n",
        "history = model.fit(train_data, train_labels, epochs=10, validation_split=0.2)"
      ],
      "execution_count": 10,
      "outputs": [
        {
          "output_type": "stream",
          "text": [
            "Epoch 1/10\n",
            "625/625 [==============================] - 68s 106ms/step - loss: 0.5327 - acc: 0.7206 - val_loss: 0.3705 - val_acc: 0.8676\n",
            "Epoch 2/10\n",
            "625/625 [==============================] - 65s 103ms/step - loss: 0.2431 - acc: 0.9054 - val_loss: 0.3122 - val_acc: 0.8660\n",
            "Epoch 3/10\n",
            "625/625 [==============================] - 66s 105ms/step - loss: 0.1732 - acc: 0.9380 - val_loss: 0.2719 - val_acc: 0.8818\n",
            "Epoch 4/10\n",
            "625/625 [==============================] - 65s 104ms/step - loss: 0.1384 - acc: 0.9481 - val_loss: 0.3132 - val_acc: 0.8698\n",
            "Epoch 5/10\n",
            "625/625 [==============================] - 65s 104ms/step - loss: 0.1200 - acc: 0.9590 - val_loss: 0.4394 - val_acc: 0.8726\n",
            "Epoch 6/10\n",
            "625/625 [==============================] - 66s 106ms/step - loss: 0.1068 - acc: 0.9634 - val_loss: 0.3189 - val_acc: 0.8810\n",
            "Epoch 7/10\n",
            "625/625 [==============================] - 66s 105ms/step - loss: 0.0941 - acc: 0.9684 - val_loss: 0.3925 - val_acc: 0.8676\n",
            "Epoch 8/10\n",
            "625/625 [==============================] - 66s 106ms/step - loss: 0.0821 - acc: 0.9736 - val_loss: 0.3142 - val_acc: 0.8842\n",
            "Epoch 9/10\n",
            "625/625 [==============================] - 66s 105ms/step - loss: 0.0671 - acc: 0.9786 - val_loss: 0.4492 - val_acc: 0.8852\n",
            "Epoch 10/10\n",
            "625/625 [==============================] - 66s 106ms/step - loss: 0.0574 - acc: 0.9827 - val_loss: 0.3673 - val_acc: 0.8808\n"
          ],
          "name": "stdout"
        }
      ]
    },
    {
      "cell_type": "code",
      "metadata": {
        "colab": {
          "base_uri": "https://localhost:8080/"
        },
        "id": "jG6xcNZXgidN",
        "outputId": "5586d62d-56c5-4eeb-fed6-f645904ff5ee"
      },
      "source": [
        "results = model.evaluate(test_data, test_labels)\n",
        "print(results)"
      ],
      "execution_count": 11,
      "outputs": [
        {
          "output_type": "stream",
          "text": [
            "782/782 [==============================] - 18s 23ms/step - loss: 0.4304 - acc: 0.8557\n",
            "[0.4304167628288269, 0.855679988861084]\n"
          ],
          "name": "stdout"
        }
      ]
    },
    {
      "cell_type": "markdown",
      "metadata": {
        "id": "S1dXah2egjlR"
      },
      "source": [
        "# Making Predictions\n",
        "Since our reviews are encoded well need to convert any review that we write into that form so the network can understand it. To do that well load the encodings from the dataset and use them to encode our own data."
      ]
    },
    {
      "cell_type": "code",
      "metadata": {
        "colab": {
          "base_uri": "https://localhost:8080/"
        },
        "id": "OwiHPFspgp0M",
        "outputId": "2dd07976-fe5a-4d84-e569-04d1c87eb739"
      },
      "source": [
        "word_index = imdb.get_word_index()\n",
        "\n",
        "def encode_text(text):\n",
        "  tokens = keras.preprocessing.text.text_to_word_sequence(text)\n",
        "  tokens = [word_index[word] if word in word_index else 0 for word in tokens]\n",
        "  return sequence.pad_sequences([tokens], MAXLEN)[0]\n",
        "\n",
        "text = \"that movie was just amazing, so amazing\"\n",
        "encoded = encode_text(text)\n",
        "print(encoded)"
      ],
      "execution_count": 12,
      "outputs": [
        {
          "output_type": "stream",
          "text": [
            "[  0   0   0   0   0   0   0   0   0   0   0   0   0   0   0   0   0   0\n",
            "   0   0   0   0   0   0   0   0   0   0   0   0   0   0   0   0   0   0\n",
            "   0   0   0   0   0   0   0   0   0   0   0   0   0   0   0   0   0   0\n",
            "   0   0   0   0   0   0   0   0   0   0   0   0   0   0   0   0   0   0\n",
            "   0   0   0   0   0   0   0   0   0   0   0   0   0   0   0   0   0   0\n",
            "   0   0   0   0   0   0   0   0   0   0   0   0   0   0   0   0   0   0\n",
            "   0   0   0   0   0   0   0   0   0   0   0   0   0   0   0   0   0   0\n",
            "   0   0   0   0   0   0   0   0   0   0   0   0   0   0   0   0   0   0\n",
            "   0   0   0   0   0   0   0   0   0   0   0   0   0   0   0   0   0   0\n",
            "   0   0   0   0   0   0   0   0   0   0   0   0   0   0   0   0   0   0\n",
            "   0   0   0   0   0   0   0   0   0   0   0   0   0   0   0   0   0   0\n",
            "   0   0   0   0   0   0   0   0   0   0   0   0   0   0   0   0   0   0\n",
            "   0   0   0   0   0   0   0   0   0   0   0   0   0   0   0   0   0   0\n",
            "   0   0   0   0   0   0   0   0   0  12  17  13  40 477  35 477]\n"
          ],
          "name": "stdout"
        }
      ]
    },
    {
      "cell_type": "code",
      "metadata": {
        "colab": {
          "base_uri": "https://localhost:8080/"
        },
        "id": "J5C0OpZWgs8H",
        "outputId": "f6aaa211-68b0-43d9-de80-5b2d102177c0"
      },
      "source": [
        "#make a decode function\n",
        "reverse_word_index = {value: key for (key, value) in word_index.items()}\n",
        "\n",
        "def decode_integers(integers):\n",
        "  PAD = 0\n",
        "  text = \"\"\n",
        "  for num in integers:\n",
        "    if num != PAD:\n",
        "      text += reverse_word_index[num] + \" \"\n",
        "\n",
        "  return text[:-1]\n",
        "\n",
        "print(decode_integers(encoded))"
      ],
      "execution_count": 13,
      "outputs": [
        {
          "output_type": "stream",
          "text": [
            "that movie was just amazing so amazing\n"
          ],
          "name": "stdout"
        }
      ]
    },
    {
      "cell_type": "code",
      "metadata": {
        "colab": {
          "base_uri": "https://localhost:8080/"
        },
        "id": "A3ONapprhM1y",
        "outputId": "054d7eaf-2099-4c12-ab6d-efbaa9f84085"
      },
      "source": [
        "# now time to make a prediction\n",
        "\n",
        "def predict(text):\n",
        "  encoded_text = encode_text(text)\n",
        "  pred = np.zeros((1,250))\n",
        "  pred[0] = encoded_text\n",
        "  result = model.predict(pred) \n",
        "  print(result[0])\n",
        "\n",
        "positive_review = \"That movie was! really loved it and would great watch it again because it was amazingly great\"\n",
        "predict(positive_review)\n",
        "\n",
        "negative_review = \"that movie really sucked. I hated it and wouldn't watch it again. Was one of the worst things I've ever watched\"\n",
        "predict(negative_review)\n"
      ],
      "execution_count": 14,
      "outputs": [
        {
          "output_type": "stream",
          "text": [
            "[0.93383634]\n",
            "[0.2836957]\n"
          ],
          "name": "stdout"
        }
      ]
    },
    {
      "cell_type": "markdown",
      "metadata": {
        "id": "LjpkfkeShWEH"
      },
      "source": [
        "#RNN Play Generator\n",
        "* use a RNN to generate a play\n"
      ]
    },
    {
      "cell_type": "code",
      "metadata": {
        "id": "iqqLKhHihcqD"
      },
      "source": [
        "from keras.preprocessing import sequence\n",
        "import keras\n",
        "import tensorflow as tf\n",
        "import os\n",
        "import numpy as np\n"
      ],
      "execution_count": 15,
      "outputs": []
    },
    {
      "cell_type": "markdown",
      "metadata": {
        "id": "5VV4MiPxceCv"
      },
      "source": [
        "#Data Set From ShakeSpear Play"
      ]
    },
    {
      "cell_type": "code",
      "metadata": {
        "id": "lZlK6YH5lnU3"
      },
      "source": [
        "path_to_file = tf.keras.utils.get_file('shakespeare.txt', 'https://storage.googleapis.com/download.tensorflow.org/data/shakespeare.txt')"
      ],
      "execution_count": 16,
      "outputs": []
    },
    {
      "cell_type": "markdown",
      "metadata": {
        "id": "9FnISnCRlsew"
      },
      "source": [
        "#Loading Your Own Data"
      ]
    },
    {
      "cell_type": "code",
      "metadata": {
        "colab": {
          "resources": {
            "http://localhost:8080/nbextensions/google.colab/files.js": {
              "data": "Ly8gQ29weXJpZ2h0IDIwMTcgR29vZ2xlIExMQwovLwovLyBMaWNlbnNlZCB1bmRlciB0aGUgQXBhY2hlIExpY2Vuc2UsIFZlcnNpb24gMi4wICh0aGUgIkxpY2Vuc2UiKTsKLy8geW91IG1heSBub3QgdXNlIHRoaXMgZmlsZSBleGNlcHQgaW4gY29tcGxpYW5jZSB3aXRoIHRoZSBMaWNlbnNlLgovLyBZb3UgbWF5IG9idGFpbiBhIGNvcHkgb2YgdGhlIExpY2Vuc2UgYXQKLy8KLy8gICAgICBodHRwOi8vd3d3LmFwYWNoZS5vcmcvbGljZW5zZXMvTElDRU5TRS0yLjAKLy8KLy8gVW5sZXNzIHJlcXVpcmVkIGJ5IGFwcGxpY2FibGUgbGF3IG9yIGFncmVlZCB0byBpbiB3cml0aW5nLCBzb2Z0d2FyZQovLyBkaXN0cmlidXRlZCB1bmRlciB0aGUgTGljZW5zZSBpcyBkaXN0cmlidXRlZCBvbiBhbiAiQVMgSVMiIEJBU0lTLAovLyBXSVRIT1VUIFdBUlJBTlRJRVMgT1IgQ09ORElUSU9OUyBPRiBBTlkgS0lORCwgZWl0aGVyIGV4cHJlc3Mgb3IgaW1wbGllZC4KLy8gU2VlIHRoZSBMaWNlbnNlIGZvciB0aGUgc3BlY2lmaWMgbGFuZ3VhZ2UgZ292ZXJuaW5nIHBlcm1pc3Npb25zIGFuZAovLyBsaW1pdGF0aW9ucyB1bmRlciB0aGUgTGljZW5zZS4KCi8qKgogKiBAZmlsZW92ZXJ2aWV3IEhlbHBlcnMgZm9yIGdvb2dsZS5jb2xhYiBQeXRob24gbW9kdWxlLgogKi8KKGZ1bmN0aW9uKHNjb3BlKSB7CmZ1bmN0aW9uIHNwYW4odGV4dCwgc3R5bGVBdHRyaWJ1dGVzID0ge30pIHsKICBjb25zdCBlbGVtZW50ID0gZG9jdW1lbnQuY3JlYXRlRWxlbWVudCgnc3BhbicpOwogIGVsZW1lbnQudGV4dENvbnRlbnQgPSB0ZXh0OwogIGZvciAoY29uc3Qga2V5IG9mIE9iamVjdC5rZXlzKHN0eWxlQXR0cmlidXRlcykpIHsKICAgIGVsZW1lbnQuc3R5bGVba2V5XSA9IHN0eWxlQXR0cmlidXRlc1trZXldOwogIH0KICByZXR1cm4gZWxlbWVudDsKfQoKLy8gTWF4IG51bWJlciBvZiBieXRlcyB3aGljaCB3aWxsIGJlIHVwbG9hZGVkIGF0IGEgdGltZS4KY29uc3QgTUFYX1BBWUxPQURfU0laRSA9IDEwMCAqIDEwMjQ7CgpmdW5jdGlvbiBfdXBsb2FkRmlsZXMoaW5wdXRJZCwgb3V0cHV0SWQpIHsKICBjb25zdCBzdGVwcyA9IHVwbG9hZEZpbGVzU3RlcChpbnB1dElkLCBvdXRwdXRJZCk7CiAgY29uc3Qgb3V0cHV0RWxlbWVudCA9IGRvY3VtZW50LmdldEVsZW1lbnRCeUlkKG91dHB1dElkKTsKICAvLyBDYWNoZSBzdGVwcyBvbiB0aGUgb3V0cHV0RWxlbWVudCB0byBtYWtlIGl0IGF2YWlsYWJsZSBmb3IgdGhlIG5leHQgY2FsbAogIC8vIHRvIHVwbG9hZEZpbGVzQ29udGludWUgZnJvbSBQeXRob24uCiAgb3V0cHV0RWxlbWVudC5zdGVwcyA9IHN0ZXBzOwoKICByZXR1cm4gX3VwbG9hZEZpbGVzQ29udGludWUob3V0cHV0SWQpOwp9CgovLyBUaGlzIGlzIHJvdWdobHkgYW4gYXN5bmMgZ2VuZXJhdG9yIChub3Qgc3VwcG9ydGVkIGluIHRoZSBicm93c2VyIHlldCksCi8vIHdoZXJlIHRoZXJlIGFyZSBtdWx0aXBsZSBhc3luY2hyb25vdXMgc3RlcHMgYW5kIHRoZSBQeXRob24gc2lkZSBpcyBnb2luZwovLyB0byBwb2xsIGZvciBjb21wbGV0aW9uIG9mIGVhY2ggc3RlcC4KLy8gVGhpcyB1c2VzIGEgUHJvbWlzZSB0byBibG9jayB0aGUgcHl0aG9uIHNpZGUgb24gY29tcGxldGlvbiBvZiBlYWNoIHN0ZXAsCi8vIHRoZW4gcGFzc2VzIHRoZSByZXN1bHQgb2YgdGhlIHByZXZpb3VzIHN0ZXAgYXMgdGhlIGlucHV0IHRvIHRoZSBuZXh0IHN0ZXAuCmZ1bmN0aW9uIF91cGxvYWRGaWxlc0NvbnRpbnVlKG91dHB1dElkKSB7CiAgY29uc3Qgb3V0cHV0RWxlbWVudCA9IGRvY3VtZW50LmdldEVsZW1lbnRCeUlkKG91dHB1dElkKTsKICBjb25zdCBzdGVwcyA9IG91dHB1dEVsZW1lbnQuc3RlcHM7CgogIGNvbnN0IG5leHQgPSBzdGVwcy5uZXh0KG91dHB1dEVsZW1lbnQubGFzdFByb21pc2VWYWx1ZSk7CiAgcmV0dXJuIFByb21pc2UucmVzb2x2ZShuZXh0LnZhbHVlLnByb21pc2UpLnRoZW4oKHZhbHVlKSA9PiB7CiAgICAvLyBDYWNoZSB0aGUgbGFzdCBwcm9taXNlIHZhbHVlIHRvIG1ha2UgaXQgYXZhaWxhYmxlIHRvIHRoZSBuZXh0CiAgICAvLyBzdGVwIG9mIHRoZSBnZW5lcmF0b3IuCiAgICBvdXRwdXRFbGVtZW50Lmxhc3RQcm9taXNlVmFsdWUgPSB2YWx1ZTsKICAgIHJldHVybiBuZXh0LnZhbHVlLnJlc3BvbnNlOwogIH0pOwp9CgovKioKICogR2VuZXJhdG9yIGZ1bmN0aW9uIHdoaWNoIGlzIGNhbGxlZCBiZXR3ZWVuIGVhY2ggYXN5bmMgc3RlcCBvZiB0aGUgdXBsb2FkCiAqIHByb2Nlc3MuCiAqIEBwYXJhbSB7c3RyaW5nfSBpbnB1dElkIEVsZW1lbnQgSUQgb2YgdGhlIGlucHV0IGZpbGUgcGlja2VyIGVsZW1lbnQuCiAqIEBwYXJhbSB7c3RyaW5nfSBvdXRwdXRJZCBFbGVtZW50IElEIG9mIHRoZSBvdXRwdXQgZGlzcGxheS4KICogQHJldHVybiB7IUl0ZXJhYmxlPCFPYmplY3Q+fSBJdGVyYWJsZSBvZiBuZXh0IHN0ZXBzLgogKi8KZnVuY3Rpb24qIHVwbG9hZEZpbGVzU3RlcChpbnB1dElkLCBvdXRwdXRJZCkgewogIGNvbnN0IGlucHV0RWxlbWVudCA9IGRvY3VtZW50LmdldEVsZW1lbnRCeUlkKGlucHV0SWQpOwogIGlucHV0RWxlbWVudC5kaXNhYmxlZCA9IGZhbHNlOwoKICBjb25zdCBvdXRwdXRFbGVtZW50ID0gZG9jdW1lbnQuZ2V0RWxlbWVudEJ5SWQob3V0cHV0SWQpOwogIG91dHB1dEVsZW1lbnQuaW5uZXJIVE1MID0gJyc7CgogIGNvbnN0IHBpY2tlZFByb21pc2UgPSBuZXcgUHJvbWlzZSgocmVzb2x2ZSkgPT4gewogICAgaW5wdXRFbGVtZW50LmFkZEV2ZW50TGlzdGVuZXIoJ2NoYW5nZScsIChlKSA9PiB7CiAgICAgIHJlc29sdmUoZS50YXJnZXQuZmlsZXMpOwogICAgfSk7CiAgfSk7CgogIGNvbnN0IGNhbmNlbCA9IGRvY3VtZW50LmNyZWF0ZUVsZW1lbnQoJ2J1dHRvbicpOwogIGlucHV0RWxlbWVudC5wYXJlbnRFbGVtZW50LmFwcGVuZENoaWxkKGNhbmNlbCk7CiAgY2FuY2VsLnRleHRDb250ZW50ID0gJ0NhbmNlbCB1cGxvYWQnOwogIGNvbnN0IGNhbmNlbFByb21pc2UgPSBuZXcgUHJvbWlzZSgocmVzb2x2ZSkgPT4gewogICAgY2FuY2VsLm9uY2xpY2sgPSAoKSA9PiB7CiAgICAgIHJlc29sdmUobnVsbCk7CiAgICB9OwogIH0pOwoKICAvLyBXYWl0IGZvciB0aGUgdXNlciB0byBwaWNrIHRoZSBmaWxlcy4KICBjb25zdCBmaWxlcyA9IHlpZWxkIHsKICAgIHByb21pc2U6IFByb21pc2UucmFjZShbcGlja2VkUHJvbWlzZSwgY2FuY2VsUHJvbWlzZV0pLAogICAgcmVzcG9uc2U6IHsKICAgICAgYWN0aW9uOiAnc3RhcnRpbmcnLAogICAgfQogIH07CgogIGNhbmNlbC5yZW1vdmUoKTsKCiAgLy8gRGlzYWJsZSB0aGUgaW5wdXQgZWxlbWVudCBzaW5jZSBmdXJ0aGVyIHBpY2tzIGFyZSBub3QgYWxsb3dlZC4KICBpbnB1dEVsZW1lbnQuZGlzYWJsZWQgPSB0cnVlOwoKICBpZiAoIWZpbGVzKSB7CiAgICByZXR1cm4gewogICAgICByZXNwb25zZTogewogICAgICAgIGFjdGlvbjogJ2NvbXBsZXRlJywKICAgICAgfQogICAgfTsKICB9CgogIGZvciAoY29uc3QgZmlsZSBvZiBmaWxlcykgewogICAgY29uc3QgbGkgPSBkb2N1bWVudC5jcmVhdGVFbGVtZW50KCdsaScpOwogICAgbGkuYXBwZW5kKHNwYW4oZmlsZS5uYW1lLCB7Zm9udFdlaWdodDogJ2JvbGQnfSkpOwogICAgbGkuYXBwZW5kKHNwYW4oCiAgICAgICAgYCgke2ZpbGUudHlwZSB8fCAnbi9hJ30pIC0gJHtmaWxlLnNpemV9IGJ5dGVzLCBgICsKICAgICAgICBgbGFzdCBtb2RpZmllZDogJHsKICAgICAgICAgICAgZmlsZS5sYXN0TW9kaWZpZWREYXRlID8gZmlsZS5sYXN0TW9kaWZpZWREYXRlLnRvTG9jYWxlRGF0ZVN0cmluZygpIDoKICAgICAgICAgICAgICAgICAgICAgICAgICAgICAgICAgICAgJ24vYSd9IC0gYCkpOwogICAgY29uc3QgcGVyY2VudCA9IHNwYW4oJzAlIGRvbmUnKTsKICAgIGxpLmFwcGVuZENoaWxkKHBlcmNlbnQpOwoKICAgIG91dHB1dEVsZW1lbnQuYXBwZW5kQ2hpbGQobGkpOwoKICAgIGNvbnN0IGZpbGVEYXRhUHJvbWlzZSA9IG5ldyBQcm9taXNlKChyZXNvbHZlKSA9PiB7CiAgICAgIGNvbnN0IHJlYWRlciA9IG5ldyBGaWxlUmVhZGVyKCk7CiAgICAgIHJlYWRlci5vbmxvYWQgPSAoZSkgPT4gewogICAgICAgIHJlc29sdmUoZS50YXJnZXQucmVzdWx0KTsKICAgICAgfTsKICAgICAgcmVhZGVyLnJlYWRBc0FycmF5QnVmZmVyKGZpbGUpOwogICAgfSk7CiAgICAvLyBXYWl0IGZvciB0aGUgZGF0YSB0byBiZSByZWFkeS4KICAgIGxldCBmaWxlRGF0YSA9IHlpZWxkIHsKICAgICAgcHJvbWlzZTogZmlsZURhdGFQcm9taXNlLAogICAgICByZXNwb25zZTogewogICAgICAgIGFjdGlvbjogJ2NvbnRpbnVlJywKICAgICAgfQogICAgfTsKCiAgICAvLyBVc2UgYSBjaHVua2VkIHNlbmRpbmcgdG8gYXZvaWQgbWVzc2FnZSBzaXplIGxpbWl0cy4gU2VlIGIvNjIxMTU2NjAuCiAgICBsZXQgcG9zaXRpb24gPSAwOwogICAgd2hpbGUgKHBvc2l0aW9uIDwgZmlsZURhdGEuYnl0ZUxlbmd0aCkgewogICAgICBjb25zdCBsZW5ndGggPSBNYXRoLm1pbihmaWxlRGF0YS5ieXRlTGVuZ3RoIC0gcG9zaXRpb24sIE1BWF9QQVlMT0FEX1NJWkUpOwogICAgICBjb25zdCBjaHVuayA9IG5ldyBVaW50OEFycmF5KGZpbGVEYXRhLCBwb3NpdGlvbiwgbGVuZ3RoKTsKICAgICAgcG9zaXRpb24gKz0gbGVuZ3RoOwoKICAgICAgY29uc3QgYmFzZTY0ID0gYnRvYShTdHJpbmcuZnJvbUNoYXJDb2RlLmFwcGx5KG51bGwsIGNodW5rKSk7CiAgICAgIHlpZWxkIHsKICAgICAgICByZXNwb25zZTogewogICAgICAgICAgYWN0aW9uOiAnYXBwZW5kJywKICAgICAgICAgIGZpbGU6IGZpbGUubmFtZSwKICAgICAgICAgIGRhdGE6IGJhc2U2NCwKICAgICAgICB9LAogICAgICB9OwogICAgICBwZXJjZW50LnRleHRDb250ZW50ID0KICAgICAgICAgIGAke01hdGgucm91bmQoKHBvc2l0aW9uIC8gZmlsZURhdGEuYnl0ZUxlbmd0aCkgKiAxMDApfSUgZG9uZWA7CiAgICB9CiAgfQoKICAvLyBBbGwgZG9uZS4KICB5aWVsZCB7CiAgICByZXNwb25zZTogewogICAgICBhY3Rpb246ICdjb21wbGV0ZScsCiAgICB9CiAgfTsKfQoKc2NvcGUuZ29vZ2xlID0gc2NvcGUuZ29vZ2xlIHx8IHt9OwpzY29wZS5nb29nbGUuY29sYWIgPSBzY29wZS5nb29nbGUuY29sYWIgfHwge307CnNjb3BlLmdvb2dsZS5jb2xhYi5fZmlsZXMgPSB7CiAgX3VwbG9hZEZpbGVzLAogIF91cGxvYWRGaWxlc0NvbnRpbnVlLAp9Owp9KShzZWxmKTsK",
              "ok": true,
              "headers": [
                [
                  "content-type",
                  "application/javascript"
                ]
              ],
              "status": 200,
              "status_text": ""
            }
          },
          "base_uri": "https://localhost:8080/",
          "height": 202
        },
        "id": "D9I429bOlua_",
        "outputId": "ebb1c2d3-f944-4843-c070-6d924f5464f1"
      },
      "source": [
        "#from google.colab import files\n",
        "#path_to_file = list(files.upload().keys())[0]"
      ],
      "execution_count": 17,
      "outputs": [
        {
          "output_type": "display_data",
          "data": {
            "text/html": [
              "\n",
              "     <input type=\"file\" id=\"files-0261cd55-4847-4745-a916-8692c2080b00\" name=\"files[]\" multiple disabled\n",
              "        style=\"border:none\" />\n",
              "     <output id=\"result-0261cd55-4847-4745-a916-8692c2080b00\">\n",
              "      Upload widget is only available when the cell has been executed in the\n",
              "      current browser session. Please rerun this cell to enable.\n",
              "      </output>\n",
              "      <script src=\"/nbextensions/google.colab/files.js\"></script> "
            ],
            "text/plain": [
              "<IPython.core.display.HTML object>"
            ]
          },
          "metadata": {
            "tags": []
          }
        },
        {
          "output_type": "error",
          "ename": "IndexError",
          "evalue": "ignored",
          "traceback": [
            "\u001b[0;31m---------------------------------------------------------------------------\u001b[0m",
            "\u001b[0;31mIndexError\u001b[0m                                Traceback (most recent call last)",
            "\u001b[0;32m<ipython-input-17-f0cf22c78c77>\u001b[0m in \u001b[0;36m<module>\u001b[0;34m()\u001b[0m\n\u001b[1;32m      1\u001b[0m \u001b[0;32mfrom\u001b[0m \u001b[0mgoogle\u001b[0m\u001b[0;34m.\u001b[0m\u001b[0mcolab\u001b[0m \u001b[0;32mimport\u001b[0m \u001b[0mfiles\u001b[0m\u001b[0;34m\u001b[0m\u001b[0;34m\u001b[0m\u001b[0m\n\u001b[0;32m----> 2\u001b[0;31m \u001b[0mpath_to_file\u001b[0m \u001b[0;34m=\u001b[0m \u001b[0mlist\u001b[0m\u001b[0;34m(\u001b[0m\u001b[0mfiles\u001b[0m\u001b[0;34m.\u001b[0m\u001b[0mupload\u001b[0m\u001b[0;34m(\u001b[0m\u001b[0;34m)\u001b[0m\u001b[0;34m.\u001b[0m\u001b[0mkeys\u001b[0m\u001b[0;34m(\u001b[0m\u001b[0;34m)\u001b[0m\u001b[0;34m)\u001b[0m\u001b[0;34m[\u001b[0m\u001b[0;36m0\u001b[0m\u001b[0;34m]\u001b[0m\u001b[0;34m\u001b[0m\u001b[0;34m\u001b[0m\u001b[0m\n\u001b[0m",
            "\u001b[0;31mIndexError\u001b[0m: list index out of range"
          ]
        }
      ]
    },
    {
      "cell_type": "markdown",
      "metadata": {
        "id": "7mCUuULklvvf"
      },
      "source": [
        "#Read Contents of File"
      ]
    },
    {
      "cell_type": "code",
      "metadata": {
        "colab": {
          "base_uri": "https://localhost:8080/"
        },
        "id": "55vj7PQLl1v6",
        "outputId": "4f4e25c4-f5e6-4742-84db-dcdb72b3a581"
      },
      "source": [
        "# Read, then decode for py2 compat.\n",
        "text = open(path_to_file, 'rb').read().decode(encoding='utf-8')\n",
        "# length of text is the number of characters in it\n",
        "print ('Length of text: {} characters'.format(len(text)))"
      ],
      "execution_count": 18,
      "outputs": [
        {
          "output_type": "stream",
          "text": [
            "Length of text: 1115394 characters\n"
          ],
          "name": "stdout"
        }
      ]
    },
    {
      "cell_type": "code",
      "metadata": {
        "colab": {
          "base_uri": "https://localhost:8080/"
        },
        "id": "m3F7L11jl2RJ",
        "outputId": "c99487bd-ac6b-4c7a-d558-0ed48a1239fe"
      },
      "source": [
        "# Take a look at the first 250 characters in text\n",
        "print(text[:250])"
      ],
      "execution_count": 19,
      "outputs": [
        {
          "output_type": "stream",
          "text": [
            "First Citizen:\n",
            "Before we proceed any further, hear me speak.\n",
            "\n",
            "All:\n",
            "Speak, speak.\n",
            "\n",
            "First Citizen:\n",
            "You are all resolved rather to die than to famish?\n",
            "\n",
            "All:\n",
            "Resolved. resolved.\n",
            "\n",
            "First Citizen:\n",
            "First, you know Caius Marcius is chief enemy to the people.\n",
            "\n"
          ],
          "name": "stdout"
        }
      ]
    },
    {
      "cell_type": "markdown",
      "metadata": {
        "id": "R0N4JQNil5VA"
      },
      "source": [
        "#Encoding"
      ]
    },
    {
      "cell_type": "code",
      "metadata": {
        "id": "WRlultzDl6wV"
      },
      "source": [
        "vocab = sorted(set(text))\n",
        "# Creating a mapping from unique characters to indices\n",
        "char2idx = {u:i for i, u in enumerate(vocab)}\n",
        "idx2char = np.array(vocab)\n",
        "\n",
        "def text_to_int(text):\n",
        "  return np.array([char2idx[c] for c in text])\n",
        "\n",
        "text_as_int = text_to_int(text)"
      ],
      "execution_count": 21,
      "outputs": []
    },
    {
      "cell_type": "code",
      "metadata": {
        "id": "ip42dLYHljoT"
      },
      "source": [
        "seq_length = 100  # length of sequence for a training example\n",
        "examples_per_epoch = len(text)//(seq_length+1)\n",
        "\n",
        "# Create training examples / targets\n",
        "char_dataset = tf.data.Dataset.from_tensor_slices(text_as_int)"
      ],
      "execution_count": 22,
      "outputs": []
    },
    {
      "cell_type": "code",
      "metadata": {
        "colab": {
          "base_uri": "https://localhost:8080/"
        },
        "id": "6ioBFYPgl9US",
        "outputId": "2eb1dafc-b37a-4872-ef4a-8669532da92b"
      },
      "source": [
        "# lets look at how part of our text is encoded\n",
        "print(\"Text:\", text[:13])\n",
        "print(\"Encoded:\", text_to_int(text[:13]))"
      ],
      "execution_count": 23,
      "outputs": [
        {
          "output_type": "stream",
          "text": [
            "Text: First Citizen\n",
            "Encoded: [18 47 56 57 58  1 15 47 58 47 64 43 52]\n"
          ],
          "name": "stdout"
        }
      ]
    },
    {
      "cell_type": "code",
      "metadata": {
        "colab": {
          "base_uri": "https://localhost:8080/"
        },
        "id": "IGAOkJWdmB8H",
        "outputId": "5fa6ec9b-085f-4dee-b0e7-06b41989f12b"
      },
      "source": [
        "def int_to_text(ints):\n",
        "  try:\n",
        "    ints = ints.numpy()\n",
        "  except:\n",
        "    pass\n",
        "  return ''.join(idx2char[ints])\n",
        "\n",
        "print(int_to_text(text_as_int[:13]))"
      ],
      "execution_count": 24,
      "outputs": [
        {
          "output_type": "stream",
          "text": [
            "First Citizen\n"
          ],
          "name": "stdout"
        }
      ]
    },
    {
      "cell_type": "markdown",
      "metadata": {
        "id": "UhfZhccJmDAf"
      },
      "source": [
        "#Creating Training Examples\n",
        "use a seq_length sequence as input and a seq_length sequence as the output where that sequence is the original sequence shifted one letter to the right"
      ]
    },
    {
      "cell_type": "code",
      "metadata": {
        "id": "LJIo1AdtmKNl"
      },
      "source": [
        "seq_length = 100  # length of sequence for a training example\n",
        "examples_per_epoch = len(text)//(seq_length+1)\n",
        "\n",
        "# Create training examples / targets\n",
        "char_dataset = tf.data.Dataset.from_tensor_slices(text_as_int)"
      ],
      "execution_count": 25,
      "outputs": []
    },
    {
      "cell_type": "markdown",
      "metadata": {
        "id": "s3jZS4cYmMPi"
      },
      "source": [
        "use the batch method to turn this stream of characters into batches of desired length"
      ]
    },
    {
      "cell_type": "code",
      "metadata": {
        "id": "PAVckt7UmMVB"
      },
      "source": [
        "sequences = char_dataset.batch(seq_length+1, drop_remainder=True)"
      ],
      "execution_count": 26,
      "outputs": []
    },
    {
      "cell_type": "markdown",
      "metadata": {
        "id": "2ETKPqilmQlu"
      },
      "source": [
        "use these sequences of length 101 and split them into input and output"
      ]
    },
    {
      "cell_type": "code",
      "metadata": {
        "id": "SbgwEiZNmS6b"
      },
      "source": [
        "def split_input_target(chunk):  # for the example: hello\n",
        "    input_text = chunk[:-1]  # hell\n",
        "    target_text = chunk[1:]  # ello\n",
        "    return input_text, target_text  # hell, ello\n",
        "\n",
        "dataset = sequences.map(split_input_target)  # we use map to apply the above function to every entry"
      ],
      "execution_count": 27,
      "outputs": []
    },
    {
      "cell_type": "code",
      "metadata": {
        "colab": {
          "base_uri": "https://localhost:8080/"
        },
        "id": "tM5n8ROOmU8B",
        "outputId": "62251b53-078e-479d-e361-56ecb2b1e034"
      },
      "source": [
        "for x, y in dataset.take(2):\n",
        "  print(\"\\n\\nEXAMPLE\\n\")\n",
        "  print(\"INPUT\")\n",
        "  print(int_to_text(x))\n",
        "  print(\"\\nOUTPUT\")\n",
        "  print(int_to_text(y))"
      ],
      "execution_count": 28,
      "outputs": [
        {
          "output_type": "stream",
          "text": [
            "\n",
            "\n",
            "EXAMPLE\n",
            "\n",
            "INPUT\n",
            "First Citizen:\n",
            "Before we proceed any further, hear me speak.\n",
            "\n",
            "All:\n",
            "Speak, speak.\n",
            "\n",
            "First Citizen:\n",
            "You\n",
            "\n",
            "OUTPUT\n",
            "irst Citizen:\n",
            "Before we proceed any further, hear me speak.\n",
            "\n",
            "All:\n",
            "Speak, speak.\n",
            "\n",
            "First Citizen:\n",
            "You \n",
            "\n",
            "\n",
            "EXAMPLE\n",
            "\n",
            "INPUT\n",
            "are all resolved rather to die than to famish?\n",
            "\n",
            "All:\n",
            "Resolved. resolved.\n",
            "\n",
            "First Citizen:\n",
            "First, you \n",
            "\n",
            "OUTPUT\n",
            "re all resolved rather to die than to famish?\n",
            "\n",
            "All:\n",
            "Resolved. resolved.\n",
            "\n",
            "First Citizen:\n",
            "First, you k\n"
          ],
          "name": "stdout"
        }
      ]
    },
    {
      "cell_type": "markdown",
      "metadata": {
        "id": "21Fy8FhJmXUX"
      },
      "source": [
        " make training batches."
      ]
    },
    {
      "cell_type": "code",
      "metadata": {
        "id": "rumW-eMcmabb"
      },
      "source": [
        "BATCH_SIZE = 32 #reducing batch size from 64\n",
        "VOCAB_SIZE = len(vocab)  # vocab is number of unique characters\n",
        "EMBEDDING_DIM = 256\n",
        "RNN_UNITS = 1024\n",
        "\n",
        "# Buffer size to shuffle the dataset\n",
        "# (TF data is designed to work with possibly infinite sequences,\n",
        "# so it doesn't attempt to shuffle the entire sequence in memory. Instead,\n",
        "# it maintains a buffer in which it shuffles elements).\n",
        "BUFFER_SIZE = 10000\n",
        "\n",
        "data = dataset.shuffle(BUFFER_SIZE).batch(BATCH_SIZE, drop_remainder=True)"
      ],
      "execution_count": 29,
      "outputs": []
    },
    {
      "cell_type": "markdown",
      "metadata": {
        "id": "l65EpeQImcyC"
      },
      "source": [
        "#Building the Model"
      ]
    },
    {
      "cell_type": "code",
      "metadata": {
        "colab": {
          "base_uri": "https://localhost:8080/"
        },
        "id": "cZTRfDXOmkrs",
        "outputId": "5a60dfed-2ed7-488e-c3b7-92ce28181b0e"
      },
      "source": [
        "def build_model(vocab_size, embedding_dim, rnn_units, batch_size):\n",
        "  model = tf.keras.Sequential([\n",
        "    tf.keras.layers.Embedding(vocab_size, embedding_dim,\n",
        "                              batch_input_shape=[batch_size, None]),\n",
        "    tf.keras.layers.LSTM(rnn_units,\n",
        "                        return_sequences=True,\n",
        "                        stateful=True,\n",
        "                        recurrent_initializer='glorot_uniform'),\n",
        "    tf.keras.layers.Dense(vocab_size)\n",
        "  ])\n",
        "  return model\n",
        "\n",
        "model = build_model(VOCAB_SIZE,EMBEDDING_DIM, RNN_UNITS, BATCH_SIZE)\n",
        "model.summary()"
      ],
      "execution_count": 30,
      "outputs": [
        {
          "output_type": "stream",
          "text": [
            "Model: \"sequential_1\"\n",
            "_________________________________________________________________\n",
            "Layer (type)                 Output Shape              Param #   \n",
            "=================================================================\n",
            "embedding_1 (Embedding)      (32, None, 256)           16640     \n",
            "_________________________________________________________________\n",
            "lstm_1 (LSTM)                (32, None, 1024)          5246976   \n",
            "_________________________________________________________________\n",
            "dense_1 (Dense)              (32, None, 65)            66625     \n",
            "=================================================================\n",
            "Total params: 5,330,241\n",
            "Trainable params: 5,330,241\n",
            "Non-trainable params: 0\n",
            "_________________________________________________________________\n"
          ],
          "name": "stdout"
        }
      ]
    },
    {
      "cell_type": "markdown",
      "metadata": {
        "id": "38XojwEymmDZ"
      },
      "source": [
        "#Creating a Loss Function"
      ]
    },
    {
      "cell_type": "markdown",
      "metadata": {
        "id": "jAsRqMbVmpNw"
      },
      "source": [
        "create our own loss function for this problem"
      ]
    },
    {
      "cell_type": "markdown",
      "metadata": {
        "id": "-I5A1uXjmrgx"
      },
      "source": [
        "Model will output a (64, sequence_length, 65) shaped tensor that represents the probability distribution of each character at each timestep for every sequence in the batch"
      ]
    },
    {
      "cell_type": "code",
      "metadata": {
        "colab": {
          "base_uri": "https://localhost:8080/"
        },
        "id": "CSFDBjBNmuQd",
        "outputId": "e107a810-f869-4b04-ba73-a08e388e6e17"
      },
      "source": [
        "for input_example_batch, target_example_batch in data.take(1):\n",
        "  example_batch_predictions = model(input_example_batch)  # ask our model for a prediction on our first batch of training data (64 entries)\n",
        "  print(example_batch_predictions.shape, \"# (batch_size, sequence_length, vocab_size)\")  # print out the output shape"
      ],
      "execution_count": 31,
      "outputs": [
        {
          "output_type": "stream",
          "text": [
            "(32, 100, 65) # (batch_size, sequence_length, vocab_size)\n"
          ],
          "name": "stdout"
        }
      ]
    },
    {
      "cell_type": "code",
      "metadata": {
        "colab": {
          "base_uri": "https://localhost:8080/"
        },
        "id": "tbM5KMv7mxOy",
        "outputId": "ee3da450-490c-4157-a6c9-bcfea0e8f5ab"
      },
      "source": [
        "# we can see that the predicition is an array of 64 arrays, one for each entry in the batch\n",
        "print(len(example_batch_predictions))\n",
        "print(example_batch_predictions)"
      ],
      "execution_count": 32,
      "outputs": [
        {
          "output_type": "stream",
          "text": [
            "32\n",
            "tf.Tensor(\n",
            "[[[ 8.63949535e-04  1.24557863e-03  3.64687480e-03 ...  1.42847397e-03\n",
            "   -4.82911058e-03 -3.79413925e-03]\n",
            "  [ 7.14002643e-03  8.05884134e-04 -1.64137722e-03 ...  5.11776656e-03\n",
            "   -1.36730832e-03 -2.31924397e-03]\n",
            "  [ 1.85153761e-03 -6.21755933e-03  7.36283138e-04 ...  5.60166140e-04\n",
            "    2.58810772e-03 -2.09979154e-03]\n",
            "  ...\n",
            "  [-1.17475875e-02 -4.98123560e-03 -3.75442300e-03 ... -1.12078674e-02\n",
            "    5.26962336e-03 -1.64910732e-03]\n",
            "  [-7.89217302e-05 -4.88245580e-03 -2.45795911e-03 ... -1.19129661e-02\n",
            "    9.79095348e-04 -3.95677192e-03]\n",
            "  [-9.44514573e-03 -6.26624702e-03  9.63259139e-04 ... -1.37733929e-02\n",
            "    1.01164775e-03 -6.89506857e-03]]\n",
            "\n",
            " [[ 3.20827821e-03  6.66984078e-03  2.84081325e-03 ...  9.36908368e-03\n",
            "    5.74760232e-03  5.16699161e-03]\n",
            "  [ 2.81640701e-03  3.01279174e-03  5.17643569e-03 ...  5.84427174e-03\n",
            "    7.05003366e-03  5.15001360e-03]\n",
            "  [ 1.16595230e-03  6.14716066e-03  3.66734853e-03 ...  3.19598499e-03\n",
            "    5.47683612e-03  6.95656799e-03]\n",
            "  ...\n",
            "  [-1.12003321e-03  8.02139938e-03 -5.34812454e-03 ... -7.29009463e-03\n",
            "    9.82148573e-04 -5.18963672e-03]\n",
            "  [-1.73833361e-03  3.38521786e-03 -3.13198520e-03 ... -1.02822529e-02\n",
            "    3.52269295e-03 -6.57187495e-03]\n",
            "  [ 5.85028669e-03  5.02204616e-03 -8.28297809e-03 ... -3.99340270e-03\n",
            "    4.49291430e-03 -4.05296590e-03]]\n",
            "\n",
            " [[-3.35104670e-03 -2.16934364e-04 -4.10792138e-03 ...  5.87663148e-04\n",
            "    3.17730219e-03  1.03647914e-03]\n",
            "  [ 3.18587665e-03  8.67855153e-04 -7.76248099e-03 ...  4.46747988e-03\n",
            "    3.96087207e-03  6.59058453e-04]\n",
            "  [ 1.23518903e-03 -5.17489854e-04 -1.02909124e-02 ...  7.62349088e-03\n",
            "    3.75002762e-03 -4.13715187e-03]\n",
            "  ...\n",
            "  [-1.11409593e-02 -4.22921870e-03 -7.66952056e-04 ... -1.21105220e-02\n",
            "   -3.02135362e-03  6.42537256e-04]\n",
            "  [-9.33027454e-03 -2.56686108e-05 -5.60870580e-03 ... -1.44439926e-02\n",
            "   -6.18410204e-03 -9.64896171e-04]\n",
            "  [-7.68740196e-03 -3.91480466e-03 -8.80333595e-03 ... -1.29551748e-02\n",
            "    1.08543062e-03 -4.09018248e-04]]\n",
            "\n",
            " ...\n",
            "\n",
            " [[-4.31073923e-03 -6.10483112e-03  2.03230861e-03 ... -3.23385838e-03\n",
            "    2.44009821e-03  5.02666924e-04]\n",
            "  [ 3.41162959e-04  1.88184483e-03  4.48988751e-03 ...  7.56623782e-03\n",
            "    7.61993509e-03  5.32405218e-03]\n",
            "  [ 6.42446568e-04  8.28082114e-03 -1.03367015e-03 ...  8.66437797e-03\n",
            "    9.98604111e-03  7.61279929e-03]\n",
            "  ...\n",
            "  [ 5.45499194e-03  1.94145693e-03 -6.65299594e-03 ...  3.00032832e-03\n",
            "    2.48912559e-03 -4.70307563e-03]\n",
            "  [ 1.06678754e-02  4.66437498e-03 -6.42311061e-03 ...  3.35203344e-03\n",
            "    3.02497600e-03 -1.24311703e-03]\n",
            "  [ 3.98266409e-03 -2.66123749e-03 -2.91923527e-03 ... -1.20439252e-03\n",
            "    4.28219605e-03 -2.60138372e-03]]\n",
            "\n",
            " [[-8.94659478e-03 -3.33720702e-03  2.43094820e-03 ... -4.77712695e-03\n",
            "   -1.31841123e-04 -3.38913011e-03]\n",
            "  [-1.01536121e-02 -3.02329799e-03 -2.56226701e-03 ... -3.81239131e-03\n",
            "    2.79078213e-03 -1.36560341e-03]\n",
            "  [-1.27905682e-02 -4.75436682e-04 -6.93798438e-03 ... -3.20964935e-03\n",
            "    4.05693008e-03 -4.26955242e-03]\n",
            "  ...\n",
            "  [ 2.52903439e-03  3.31184012e-03 -5.05258096e-04 ...  1.88622484e-03\n",
            "    1.13330577e-02  3.30948411e-03]\n",
            "  [ 3.95621080e-03  4.99070855e-03  3.96268629e-03 ...  2.86843022e-03\n",
            "    4.06315643e-03 -2.40695197e-03]\n",
            "  [ 1.04383547e-02  4.71062027e-03 -9.04335990e-04 ...  6.05914230e-03\n",
            "    5.58297848e-03 -2.00429978e-03]]\n",
            "\n",
            " [[-4.31074016e-03 -6.10483158e-03  2.03230721e-03 ... -3.23385792e-03\n",
            "    2.44009821e-03  5.02669252e-04]\n",
            "  [-1.18150236e-02 -8.12306255e-03  4.09353431e-03 ... -6.60277391e-03\n",
            "    1.74407288e-03 -3.29497317e-03]\n",
            "  [-1.19838892e-02 -6.37300964e-03 -1.18605921e-03 ... -4.65932768e-03\n",
            "    4.19402588e-03 -1.47615932e-03]\n",
            "  ...\n",
            "  [ 5.29488665e-04  9.36380588e-04 -9.36530624e-03 ... -5.97616564e-03\n",
            "    5.48281800e-03 -7.40516651e-03]\n",
            "  [-1.24186161e-03  3.01731098e-03 -9.01316386e-03 ... -3.78888892e-03\n",
            "    2.52936059e-03 -1.21252071e-02]\n",
            "  [ 7.10652675e-04 -7.41807627e-04 -7.04978593e-03 ... -5.21027669e-03\n",
            "    1.65485428e-03 -1.46132847e-02]]], shape=(32, 100, 65), dtype=float32)\n"
          ],
          "name": "stdout"
        }
      ]
    },
    {
      "cell_type": "code",
      "metadata": {
        "colab": {
          "base_uri": "https://localhost:8080/"
        },
        "id": "6pNGZ8hQmy19",
        "outputId": "4c00a3fa-5cb5-4293-ec06-973824dc06db"
      },
      "source": [
        "# lets examine one prediction\n",
        "pred = example_batch_predictions[0]\n",
        "print(len(pred))\n",
        "print(pred)\n",
        "# notice this is a 2d array of length 100, where each interior array is the prediction for the next character at each time step"
      ],
      "execution_count": 33,
      "outputs": [
        {
          "output_type": "stream",
          "text": [
            "100\n",
            "tf.Tensor(\n",
            "[[ 8.63949535e-04  1.24557863e-03  3.64687480e-03 ...  1.42847397e-03\n",
            "  -4.82911058e-03 -3.79413925e-03]\n",
            " [ 7.14002643e-03  8.05884134e-04 -1.64137722e-03 ...  5.11776656e-03\n",
            "  -1.36730832e-03 -2.31924397e-03]\n",
            " [ 1.85153761e-03 -6.21755933e-03  7.36283138e-04 ...  5.60166140e-04\n",
            "   2.58810772e-03 -2.09979154e-03]\n",
            " ...\n",
            " [-1.17475875e-02 -4.98123560e-03 -3.75442300e-03 ... -1.12078674e-02\n",
            "   5.26962336e-03 -1.64910732e-03]\n",
            " [-7.89217302e-05 -4.88245580e-03 -2.45795911e-03 ... -1.19129661e-02\n",
            "   9.79095348e-04 -3.95677192e-03]\n",
            " [-9.44514573e-03 -6.26624702e-03  9.63259139e-04 ... -1.37733929e-02\n",
            "   1.01164775e-03 -6.89506857e-03]], shape=(100, 65), dtype=float32)\n"
          ],
          "name": "stdout"
        }
      ]
    },
    {
      "cell_type": "code",
      "metadata": {
        "colab": {
          "base_uri": "https://localhost:8080/"
        },
        "id": "o8KTJt2am0tT",
        "outputId": "279c6dce-35c5-49a7-be18-53e3cfb99bda"
      },
      "source": [
        "# and finally well look at a prediction at the first timestep\n",
        "time_pred = pred[0]\n",
        "print(len(time_pred))\n",
        "print(time_pred)\n",
        "# and of course its 65 values representing the probabillity of each character occuring next"
      ],
      "execution_count": 34,
      "outputs": [
        {
          "output_type": "stream",
          "text": [
            "65\n",
            "tf.Tensor(\n",
            "[ 0.00086395  0.00124558  0.00364687 -0.00044252 -0.00222366  0.00107428\n",
            " -0.00436936  0.00349897 -0.00106652  0.00360878 -0.00282236 -0.00012254\n",
            " -0.00625784  0.0047593  -0.00033868 -0.00245516 -0.00184442  0.00010053\n",
            " -0.00266794  0.0006233   0.00122459 -0.00252377 -0.00010827  0.00617811\n",
            " -0.00048699 -0.00268287 -0.00332178  0.00416952 -0.00120097  0.00648476\n",
            "  0.00284751 -0.00326608  0.00113281  0.00370091  0.00338635  0.00068918\n",
            "  0.00412584  0.00086616  0.00012947 -0.00143553 -0.00260279  0.00065536\n",
            " -0.00134113 -0.00550483  0.00566489 -0.00165402  0.00449615 -0.00167935\n",
            " -0.00195123 -0.00339715 -0.00578174  0.00252044  0.00162923 -0.00352296\n",
            "  0.00205325 -0.00332469  0.00372901 -0.00348514  0.00161241  0.00141889\n",
            " -0.00604965  0.00010471  0.00142847 -0.00482911 -0.00379414], shape=(65,), dtype=float32)\n"
          ],
          "name": "stdout"
        }
      ]
    },
    {
      "cell_type": "code",
      "metadata": {
        "colab": {
          "base_uri": "https://localhost:8080/",
          "height": 34
        },
        "id": "5F2j6Aoam38y",
        "outputId": "a0065938-5132-49b7-9720-edc3d665d697"
      },
      "source": [
        "# If we want to determine the predicted character we need to sample the output distribution (pick a value based on probabillity)\n",
        "sampled_indices = tf.random.categorical(pred, num_samples=1)\n",
        "\n",
        "# now we can reshape that array and convert all the integers to numbers to see the actual characters\n",
        "sampled_indices = np.reshape(sampled_indices, (1, -1))[0]\n",
        "predicted_chars = int_to_text(sampled_indices)\n",
        "\n",
        "predicted_chars  # and this is what the model predicted for training sequence 1"
      ],
      "execution_count": 35,
      "outputs": [
        {
          "output_type": "execute_result",
          "data": {
            "application/vnd.google.colaboratory.intrinsic+json": {
              "type": "string"
            },
            "text/plain": [
              "\"&iDu,SzKVqCWOAbODfnASCq?kye'kuxtCOkz3LJdhE?JS'oBIEIn.XP.a. VSePYTW'SwghCD3PKtPH3A$L JIHwO,sKiIr-xvRW\""
            ]
          },
          "metadata": {
            "tags": []
          },
          "execution_count": 35
        }
      ]
    },
    {
      "cell_type": "markdown",
      "metadata": {
        "id": "QaGrTJoMm6xd"
      },
      "source": [
        "create a loss function that can compare that output to the expected output and give us some numeric value representing how close the two were."
      ]
    },
    {
      "cell_type": "code",
      "metadata": {
        "id": "QhvPCo6Wm7SE"
      },
      "source": [
        "def loss(labels, logits):\n",
        "  return tf.keras.losses.sparse_categorical_crossentropy(labels, logits, from_logits=True)"
      ],
      "execution_count": 36,
      "outputs": []
    },
    {
      "cell_type": "markdown",
      "metadata": {
        "id": "vu81rnocm9Wh"
      },
      "source": [
        "#Compiling the Model"
      ]
    },
    {
      "cell_type": "markdown",
      "metadata": {
        "id": "hSrXnDrum_5Z"
      },
      "source": [
        "think of our problem as a classification problem where the model predicts the probabillity of each unique letter coming next."
      ]
    },
    {
      "cell_type": "code",
      "metadata": {
        "id": "WBiSHcQmnA6d"
      },
      "source": [
        "model.compile(optimizer='adam', loss=loss)"
      ],
      "execution_count": 37,
      "outputs": []
    },
    {
      "cell_type": "markdown",
      "metadata": {
        "id": "4atD5QkUnCIv"
      },
      "source": [
        "#Creating Checkpoints\n",
        "setup and configure our model to save checkpoinst as it trains. This will allow us to load our model from a checkpoint and continue training it."
      ]
    },
    {
      "cell_type": "code",
      "metadata": {
        "id": "Si6MyvyFnGbQ"
      },
      "source": [
        "# Directory where the checkpoints will be saved\n",
        "checkpoint_dir = './training_checkpoints'\n",
        "# Name of the checkpoint files\n",
        "checkpoint_prefix = os.path.join(checkpoint_dir, \"ckpt_{epoch}\")\n",
        "\n",
        "checkpoint_callback=tf.keras.callbacks.ModelCheckpoint(\n",
        "    filepath=checkpoint_prefix,\n",
        "    save_weights_only=True)"
      ],
      "execution_count": 38,
      "outputs": []
    },
    {
      "cell_type": "markdown",
      "metadata": {
        "id": "Z-3adsVclhZ9"
      },
      "source": [
        "#Training\n",
        "If this is taking a while go to Runtime > Change Runtime Type and choose \"GPU\" under hardware accelerator."
      ]
    },
    {
      "cell_type": "code",
      "metadata": {
        "colab": {
          "base_uri": "https://localhost:8080/"
        },
        "id": "GkkbhbhEnOVc",
        "outputId": "949bc2fa-072b-493d-9f3a-8597c7e8a854"
      },
      "source": [
        "history = model.fit(data, epochs=5, callbacks=[checkpoint_callback])"
      ],
      "execution_count": 39,
      "outputs": [
        {
          "output_type": "stream",
          "text": [
            "Epoch 1/5\n",
            "345/345 [==============================] - 2037s 6s/step - loss: 2.7667\n",
            "Epoch 2/5\n",
            "345/345 [==============================] - 2030s 6s/step - loss: 1.7349\n",
            "Epoch 3/5\n",
            "345/345 [==============================] - 2031s 6s/step - loss: 1.4965\n",
            "Epoch 4/5\n",
            "345/345 [==============================] - 2023s 6s/step - loss: 1.3919\n",
            "Epoch 5/5\n",
            "345/345 [==============================] - 2041s 6s/step - loss: 1.3229\n"
          ],
          "name": "stdout"
        }
      ]
    },
    {
      "cell_type": "markdown",
      "metadata": {
        "id": "eUXkqCAYnPR0"
      },
      "source": [
        "#Loading the Model\n",
        "rebuild the model from a checkpoint using a batch_size of 1 so that we can feed one peice of text to the model and have it make a prediction."
      ]
    },
    {
      "cell_type": "code",
      "metadata": {
        "id": "zGxoakbWnYeK"
      },
      "source": [
        "model = build_model(VOCAB_SIZE, EMBEDDING_DIM, RNN_UNITS, batch_size=1)"
      ],
      "execution_count": 40,
      "outputs": []
    },
    {
      "cell_type": "markdown",
      "metadata": {
        "id": "7hphkPXVnaI3"
      },
      "source": [
        "Once the model is finished training, we can find the lastest checkpoint that stores the models weights using the following line."
      ]
    },
    {
      "cell_type": "code",
      "metadata": {
        "id": "bntbRjgJnb3M"
      },
      "source": [
        "model.load_weights(tf.train.latest_checkpoint(checkpoint_dir))\n",
        "model.build(tf.TensorShape([1, None]))"
      ],
      "execution_count": 41,
      "outputs": []
    },
    {
      "cell_type": "markdown",
      "metadata": {
        "id": "dqEW8glaneiE"
      },
      "source": [
        " load any checkpoint we want by specifying the exact file to load."
      ]
    },
    {
      "cell_type": "code",
      "metadata": {
        "id": "TqbMQfeinfRP"
      },
      "source": [
        "#checkpoint_num = 5\n",
        "##model.load_weights(tf.train.load_checkpoint(\"./training_checkpoints/ckpt_\" + str(checkpoint_num)))\n",
        "#model.build(tf.TensorShape([1, None]))"
      ],
      "execution_count": 47,
      "outputs": []
    },
    {
      "cell_type": "markdown",
      "metadata": {
        "id": "twF3xK10niw-"
      },
      "source": [
        "Generating Text\n",
        "Now we can use the lovely function provided by tensorflow to generate some text using any starting string we'd like."
      ]
    },
    {
      "cell_type": "code",
      "metadata": {
        "id": "Jb783QI9nlTj"
      },
      "source": [
        "def generate_text(model, start_string):\n",
        "  # Evaluation step (generating text using the learned model)\n",
        "\n",
        "  # Number of characters to generate\n",
        "  num_generate = 800\n",
        "\n",
        "  # Converting our start string to numbers (vectorizing)\n",
        "  input_eval = [char2idx[s] for s in start_string]\n",
        "  input_eval = tf.expand_dims(input_eval, 0)\n",
        "\n",
        "  # Empty string to store our results\n",
        "  text_generated = []\n",
        "\n",
        "  # Low temperatures results in more predictable text.\n",
        "  # Higher temperatures results in more surprising text.\n",
        "  # Experiment to find the best setting.\n",
        "  temperature = 1.0\n",
        "\n",
        "  # Here batch size == 1\n",
        "  model.reset_states()\n",
        "  for i in range(num_generate):\n",
        "      predictions = model(input_eval)\n",
        "      # remove the batch dimension\n",
        "    \n",
        "      predictions = tf.squeeze(predictions, 0)\n",
        "\n",
        "      # using a categorical distribution to predict the character returned by the model\n",
        "      predictions = predictions / temperature\n",
        "      predicted_id = tf.random.categorical(predictions, num_samples=1)[-1,0].numpy()\n",
        "\n",
        "      # We pass the predicted character as the next input to the model\n",
        "      # along with the previous hidden state\n",
        "      input_eval = tf.expand_dims([predicted_id], 0)\n",
        "\n",
        "      text_generated.append(idx2char[predicted_id])\n",
        "\n",
        "  return (start_string + ''.join(text_generated))"
      ],
      "execution_count": 45,
      "outputs": []
    },
    {
      "cell_type": "code",
      "metadata": {
        "colab": {
          "base_uri": "https://localhost:8080/"
        },
        "id": "9Bfw4P2Inm2w",
        "outputId": "c6bdea52-bfdb-483f-c86b-4129cb096d45"
      },
      "source": [
        "inp = input(\"Type a starting string: \")\n",
        "print(generate_text(model, inp))"
      ],
      "execution_count": 46,
      "outputs": [
        {
          "output_type": "stream",
          "text": [
            "Type a starting string: Hello I like the moview\n",
            "Hello I like the moview\n",
            "Deer, hownd-acherity, and aback,\n",
            "And be the hain to day my heart,\n",
            "And never no more immort: the want Warwick's them; and\n",
            "haip, the aptredly provided promuserous writk?\n",
            "What doing-being heard must curse again.\n",
            "\n",
            "Cloruwellower, if I stooply,\n",
            "So deep the firm,\n",
            "And not the day be way, it is aboattent spear,\n",
            "Clordon's will, not think it will, let me\n",
            "there is your howard? thou art infect me,\n",
            "Lean with the child I live: or murdels and good-doom.\n",
            "Thy hand madeolable what armects heary\n",
            "With this dead merit, if before alike.\n",
            "\n",
            "LORD FITZUTHEM:\n",
            "Right never think the eyes degree of the false;\n",
            "Siff he the other scovery walk.\n",
            "I kase\n",
            "Father than he did:\n",
            "The gear is so carrain'd, when he hath proferse of notage,\n",
            "And tobxens with ban a had, and as bale,\n",
            "Show'd from brook--whom nothing good Behnuch England's \n"
          ],
          "name": "stdout"
        }
      ]
    },
    {
      "cell_type": "markdown",
      "metadata": {
        "id": "ZMmaQjE9tB64"
      },
      "source": [
        "#Source:\n",
        "TensorFlow 2.0 Complete Course - Python Neural Networks for Beginners Tutorial\n",
        "https://colab.research.google.com/drive/1ysEKrw_LE2jMndo1snrZUh5w87LQsCxk#forceEdit=true&sandboxMode=true"
      ]
    }
  ]
}