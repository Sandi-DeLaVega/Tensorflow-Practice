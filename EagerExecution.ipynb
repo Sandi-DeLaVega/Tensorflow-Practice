{
  "nbformat": 4,
  "nbformat_minor": 0,
  "metadata": {
    "colab": {
      "name": "EagerExecution.ipynb",
      "provenance": [],
      "collapsed_sections": [],
      "authorship_tag": "ABX9TyMRhwWecYWCV2tcfsciUaM1",
      "include_colab_link": true
    },
    "kernelspec": {
      "name": "python3",
      "display_name": "Python 3"
    }
  },
  "cells": [
    {
      "cell_type": "markdown",
      "metadata": {
        "id": "view-in-github",
        "colab_type": "text"
      },
      "source": [
        "<a href=\"https://colab.research.google.com/github/Sandi-DeLaVega/Tensorflow-Practice/blob/main/EagerExecution.ipynb\" target=\"_parent\"><img src=\"https://colab.research.google.com/assets/colab-badge.svg\" alt=\"Open In Colab\"/></a>"
      ]
    },
    {
      "cell_type": "code",
      "metadata": {
        "id": "vwY_Rts0A-ob"
      },
      "source": [
        "import tensorflow as tf"
      ],
      "execution_count": 1,
      "outputs": []
    },
    {
      "cell_type": "code",
      "metadata": {
        "colab": {
          "base_uri": "https://localhost:8080/"
        },
        "id": "GqN505twffE_",
        "outputId": "70fc6fb6-0e15-4298-8e04-b09b77658dfe"
      },
      "source": [
        "tf.executing_eagerly()"
      ],
      "execution_count": 2,
      "outputs": [
        {
          "output_type": "execute_result",
          "data": {
            "text/plain": [
              "True"
            ]
          },
          "metadata": {
            "tags": []
          },
          "execution_count": 2
        }
      ]
    },
    {
      "cell_type": "markdown",
      "metadata": {
        "id": "tNPPi7Pag0aC"
      },
      "source": [
        "#evaluates right away"
      ]
    },
    {
      "cell_type": "code",
      "metadata": {
        "colab": {
          "base_uri": "https://localhost:8080/"
        },
        "id": "oKrNIRr3gSOp",
        "outputId": "98fcc024-2de3-4861-d564-b41de89ff737"
      },
      "source": [
        "x = [[10.]]\r\n",
        "res = tf.matmul(x,x)\r\n",
        "res"
      ],
      "execution_count": 3,
      "outputs": [
        {
          "output_type": "execute_result",
          "data": {
            "text/plain": [
              "<tf.Tensor: shape=(1, 1), dtype=float32, numpy=array([[100.]], dtype=float32)>"
            ]
          },
          "metadata": {
            "tags": []
          },
          "execution_count": 3
        }
      ]
    },
    {
      "cell_type": "code",
      "metadata": {
        "colab": {
          "base_uri": "https://localhost:8080/"
        },
        "id": "VuV36TcegXz8",
        "outputId": "68b5e51b-8caa-48b2-d21a-6b1a4af35d37"
      },
      "source": [
        "a = tf.constant([[10,20],[30,40]])\r\n",
        "a"
      ],
      "execution_count": 4,
      "outputs": [
        {
          "output_type": "execute_result",
          "data": {
            "text/plain": [
              "<tf.Tensor: shape=(2, 2), dtype=int32, numpy=\n",
              "array([[10, 20],\n",
              "       [30, 40]], dtype=int32)>"
            ]
          },
          "metadata": {
            "tags": []
          },
          "execution_count": 4
        }
      ]
    },
    {
      "cell_type": "code",
      "metadata": {
        "colab": {
          "base_uri": "https://localhost:8080/"
        },
        "id": "fFuGlk0egcvq",
        "outputId": "9e39d42d-7f72-44d1-ca43-7a0801d42b59"
      },
      "source": [
        "b = tf.add(a,2)\r\n",
        "print(b)"
      ],
      "execution_count": 5,
      "outputs": [
        {
          "output_type": "stream",
          "text": [
            "tf.Tensor(\n",
            "[[12 22]\n",
            " [32 42]], shape=(2, 2), dtype=int32)\n"
          ],
          "name": "stdout"
        }
      ]
    },
    {
      "cell_type": "code",
      "metadata": {
        "colab": {
          "base_uri": "https://localhost:8080/"
        },
        "id": "BRzwpkoaghtG",
        "outputId": "825fdf21-1bd6-437b-ea3c-9ead410e623d"
      },
      "source": [
        "print(a*b)"
      ],
      "execution_count": 6,
      "outputs": [
        {
          "output_type": "stream",
          "text": [
            "tf.Tensor(\n",
            "[[ 120  440]\n",
            " [ 960 1680]], shape=(2, 2), dtype=int32)\n"
          ],
          "name": "stdout"
        }
      ]
    },
    {
      "cell_type": "code",
      "metadata": {
        "id": "QzT0hBfNgllh"
      },
      "source": [
        "m = tf.Variable([4.0,5.0,6.0],tf.float32, name=\"m\")\r\n",
        "c = tf.Variable([1.0,1.0,1.0], tf.float32, name=\"c\")"
      ],
      "execution_count": 8,
      "outputs": []
    },
    {
      "cell_type": "code",
      "metadata": {
        "colab": {
          "base_uri": "https://localhost:8080/"
        },
        "id": "UVovVDQ2gw31",
        "outputId": "5062d597-cef2-409a-c796-661ba2128a97"
      },
      "source": [
        "m"
      ],
      "execution_count": 9,
      "outputs": [
        {
          "output_type": "execute_result",
          "data": {
            "text/plain": [
              "<tf.Variable 'm:0' shape=(3,) dtype=float32, numpy=array([4., 5., 6.], dtype=float32)>"
            ]
          },
          "metadata": {
            "tags": []
          },
          "execution_count": 9
        }
      ]
    },
    {
      "cell_type": "code",
      "metadata": {
        "colab": {
          "base_uri": "https://localhost:8080/"
        },
        "id": "JpnJfzFzg7OH",
        "outputId": "596ea6eb-4c3c-483a-bb2c-6ce73112705d"
      },
      "source": [
        "x = tf.Variable([100.0,100.0,100.0], tf.float32, name = \"x\")\r\n",
        "x"
      ],
      "execution_count": 11,
      "outputs": [
        {
          "output_type": "execute_result",
          "data": {
            "text/plain": [
              "<tf.Variable 'x:0' shape=(3,) dtype=float32, numpy=array([100., 100., 100.], dtype=float32)>"
            ]
          },
          "metadata": {
            "tags": []
          },
          "execution_count": 11
        }
      ]
    },
    {
      "cell_type": "code",
      "metadata": {
        "colab": {
          "base_uri": "https://localhost:8080/"
        },
        "id": "yWzVCA4shBLF",
        "outputId": "438ef58d-6609-4ab7-b100-840d01057ed1"
      },
      "source": [
        "y = m*x + c\r\n",
        "y"
      ],
      "execution_count": 13,
      "outputs": [
        {
          "output_type": "execute_result",
          "data": {
            "text/plain": [
              "<tf.Tensor: shape=(3,), dtype=float32, numpy=array([401., 501., 601.], dtype=float32)>"
            ]
          },
          "metadata": {
            "tags": []
          },
          "execution_count": 13
        }
      ]
    },
    {
      "cell_type": "code",
      "metadata": {
        "id": "hVTtrF3nhGhk"
      },
      "source": [
        "def tensorflow(max_num):\r\n",
        "  counter = tf.constant(0)\r\n",
        "  max_num = tf.constant(max_num)\r\n",
        "  \r\n",
        "  for num in range(0, max_num.numpy() + 1):\r\n",
        "    num = tf.constant(num)\r\n",
        "\r\n",
        "    if int(num % 3) == 0 and int(num % 5) == 0:\r\n",
        "      print(\"Divisible by 3 and 5: \", num.numpy())\r\n",
        "\r\n",
        "    elif int(num % 3) == 0:\r\n",
        "      print(\"Divisible by 3: \", num.numpy())\r\n",
        "\r\n",
        "    elif int(num % 5) == 0:\r\n",
        "      print(\"Divisible by 5: \", num.numpy())\r\n",
        "\r\n",
        "    else:\r\n",
        "      print(num.numpy())\r\n",
        "\r\n",
        "    counter +=1"
      ],
      "execution_count": 15,
      "outputs": []
    },
    {
      "cell_type": "code",
      "metadata": {
        "colab": {
          "base_uri": "https://localhost:8080/"
        },
        "id": "AmMbhBqmhvxu",
        "outputId": "c1a2616a-b6e0-4787-b40b-0fe611974734"
      },
      "source": [
        "tensorflow(15)"
      ],
      "execution_count": 16,
      "outputs": [
        {
          "output_type": "stream",
          "text": [
            "Divisible by 3 and 5:  0\n",
            "1\n",
            "2\n",
            "Divisible by 3:  3\n",
            "4\n",
            "Divisible by 5:  5\n",
            "Divisible by 3:  6\n",
            "7\n",
            "8\n",
            "Divisible by 3:  9\n",
            "Divisible by 5:  10\n",
            "11\n",
            "Divisible by 3:  12\n",
            "13\n",
            "14\n",
            "Divisible by 3 and 5:  15\n"
          ],
          "name": "stdout"
        }
      ]
    }
  ]
}