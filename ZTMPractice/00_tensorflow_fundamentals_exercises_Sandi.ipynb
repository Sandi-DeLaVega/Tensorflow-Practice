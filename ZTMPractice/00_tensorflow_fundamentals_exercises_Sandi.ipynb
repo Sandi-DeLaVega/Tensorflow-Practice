{
 "cells": [
  {
   "cell_type": "markdown",
   "id": "dccff314",
   "metadata": {},
   "source": [
    "## 🛠 Exercises\n",
    "\n",
    "1. Create a vector, scalar, matrix and tensor with values of your choosing using `tf.constant()`.\n",
    "2. Find the shape, rank and size of the tensors you created in 1.\n",
    "3. Create two tensors containing random values between 0 and 1 with shape `[5, 300]`.\n",
    "4. Multiply the two tensors you created in 3 using matrix multiplication.\n",
    "5. Multiply the two tensors you created in 3 using dot product.\n",
    "6. Create a tensor with random values between 0 and 1 with shape `[224, 224, 3]`.\n",
    "7. Find the min and max values of the tensor you created in 6.\n",
    "8. Created a tensor with random values of shape `[1, 224, 224, 3]` then squeeze it to change the shape to `[224, 224, 3]`.\n",
    "9. Create a tensor with shape `[10]` using your own choice of values, then find the index which has the maximum value.\n",
    "10. One-hot encode the tensor you created in 9."
   ]
  },
  {
   "cell_type": "code",
   "execution_count": null,
   "id": "1831007f",
   "metadata": {},
   "outputs": [],
   "source": [
    "#1. Create a vector, scalar, matrix and tensor with values of your choosing using `tf.constant()`."
   ]
  },
  {
   "cell_type": "code",
   "execution_count": null,
   "id": "9aaebb55",
   "metadata": {},
   "outputs": [],
   "source": [
    "#2. Find the shape, rank and size of the tensors you created in 1."
   ]
  },
  {
   "cell_type": "code",
   "execution_count": null,
   "id": "f8a1c6de",
   "metadata": {},
   "outputs": [],
   "source": [
    "#3. Create two tensors containing random values between 0 and 1 with shape `[5, 300]`."
   ]
  },
  {
   "cell_type": "code",
   "execution_count": null,
   "id": "b96ca1e7",
   "metadata": {},
   "outputs": [],
   "source": [
    "#4. Multiply the two tensors you created in 3 using matrix multiplication."
   ]
  },
  {
   "cell_type": "code",
   "execution_count": null,
   "id": "b3274a44",
   "metadata": {},
   "outputs": [],
   "source": [
    "#5. Multiply the two tensors you created in 3 using dot product."
   ]
  },
  {
   "cell_type": "code",
   "execution_count": null,
   "id": "7cf516d7",
   "metadata": {},
   "outputs": [],
   "source": [
    "#6. Create a tensor with random values between 0 and 1 with shape `[224, 224, 3]`."
   ]
  },
  {
   "cell_type": "code",
   "execution_count": null,
   "id": "5792b80b",
   "metadata": {},
   "outputs": [],
   "source": [
    "#7. Find the min and max values of the tensor you created in 6."
   ]
  },
  {
   "cell_type": "code",
   "execution_count": null,
   "id": "8b1d2ea6",
   "metadata": {},
   "outputs": [],
   "source": [
    "#8. Created a tensor with random values of shape `[1, 224, 224, 3]` then squeeze it to change the shape to `[224, 224, 3]`."
   ]
  },
  {
   "cell_type": "code",
   "execution_count": null,
   "id": "88385c13",
   "metadata": {},
   "outputs": [],
   "source": [
    "#9. Create a tensor with shape `[10]` using your own choice of values, then find the index which has the maximum value."
   ]
  },
  {
   "cell_type": "code",
   "execution_count": null,
   "id": "7762f1b3",
   "metadata": {},
   "outputs": [],
   "source": [
    "#10. One-hot encode the tensor you created in 9."
   ]
  },
  {
   "cell_type": "code",
   "execution_count": null,
   "id": "f98e438b",
   "metadata": {},
   "outputs": [],
   "source": []
  },
  {
   "cell_type": "code",
   "execution_count": null,
   "id": "93e24b6d",
   "metadata": {},
   "outputs": [],
   "source": []
  },
  {
   "cell_type": "code",
   "execution_count": null,
   "id": "9d018e61",
   "metadata": {},
   "outputs": [],
   "source": []
  }
 ],
 "metadata": {
  "kernelspec": {
   "display_name": "Python 3 (ipykernel)",
   "language": "python",
   "name": "python3"
  },
  "language_info": {
   "codemirror_mode": {
    "name": "ipython",
    "version": 3
   },
   "file_extension": ".py",
   "mimetype": "text/x-python",
   "name": "python",
   "nbconvert_exporter": "python",
   "pygments_lexer": "ipython3",
   "version": "3.10.2"
  }
 },
 "nbformat": 4,
 "nbformat_minor": 5
}
