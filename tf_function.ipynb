{
  "nbformat": 4,
  "nbformat_minor": 0,
  "metadata": {
    "colab": {
      "name": "tf.function.ipynb",
      "provenance": [],
      "collapsed_sections": [],
      "authorship_tag": "ABX9TyNm/mtwRIACDqg7CVXvMdEf",
      "include_colab_link": true
    },
    "kernelspec": {
      "name": "python3",
      "display_name": "Python 3"
    }
  },
  "cells": [
    {
      "cell_type": "markdown",
      "metadata": {
        "id": "view-in-github",
        "colab_type": "text"
      },
      "source": [
        "<a href=\"https://colab.research.google.com/github/Sandi-DeLaVega/Tensorflow-Practice/blob/main/tf_function.ipynb\" target=\"_parent\"><img src=\"https://colab.research.google.com/assets/colab-badge.svg\" alt=\"Open In Colab\"/></a>"
      ]
    },
    {
      "cell_type": "code",
      "metadata": {
        "id": "pP-uyuqhr3Jk"
      },
      "source": [
        "import time\r\n",
        "import warnings\r\n",
        "import logging\r\n",
        "import tensorflow as tf"
      ],
      "execution_count": 1,
      "outputs": []
    },
    {
      "cell_type": "code",
      "metadata": {
        "id": "GVybQ3l_sVRG"
      },
      "source": [
        "#tf.function decorated functions run as static computation graphs\r\n",
        "@tf.function\r\n",
        "def add(a,b):\r\n",
        "  return a + b\r\n",
        "\r\n",
        "@tf.function\r\n",
        "def sub(a,b):\r\n",
        "  return a - b\r\n",
        "\r\n",
        "@tf.function\r\n",
        "def mul(a,b):\r\n",
        "  return a*b\r\n",
        "\r\n",
        "@tf.function\r\n",
        "def div(a,b):\r\n",
        "  return a/b"
      ],
      "execution_count": 2,
      "outputs": []
    },
    {
      "cell_type": "code",
      "metadata": {
        "colab": {
          "base_uri": "https://localhost:8080/"
        },
        "id": "SCh9j5LizhgX",
        "outputId": "d37007a1-b45e-4522-eb55-2ecaef9aa8ea"
      },
      "source": [
        "print(add(tf.constant(5),tf.constant(2)))"
      ],
      "execution_count": 3,
      "outputs": [
        {
          "output_type": "stream",
          "text": [
            "tf.Tensor(7, shape=(), dtype=int32)\n"
          ],
          "name": "stdout"
        }
      ]
    },
    {
      "cell_type": "code",
      "metadata": {
        "colab": {
          "base_uri": "https://localhost:8080/"
        },
        "id": "G1T8hQ0T0I6T",
        "outputId": "3929e2e6-20e6-4ac9-9b02-47be47ba30d4"
      },
      "source": [
        "print(mul(tf.constant(5),tf.constant(2)))"
      ],
      "execution_count": 4,
      "outputs": [
        {
          "output_type": "stream",
          "text": [
            "tf.Tensor(10, shape=(), dtype=int32)\n"
          ],
          "name": "stdout"
        }
      ]
    },
    {
      "cell_type": "code",
      "metadata": {
        "colab": {
          "base_uri": "https://localhost:8080/"
        },
        "id": "Q9vRbBJQ0MYe",
        "outputId": "1c359f9d-29a0-4b3a-f211-06031810fc6a"
      },
      "source": [
        "print(sub(tf.constant(5),tf.constant(2)))"
      ],
      "execution_count": 5,
      "outputs": [
        {
          "output_type": "stream",
          "text": [
            "tf.Tensor(3, shape=(), dtype=int32)\n"
          ],
          "name": "stdout"
        }
      ]
    },
    {
      "cell_type": "code",
      "metadata": {
        "colab": {
          "base_uri": "https://localhost:8080/"
        },
        "id": "OXbrMcYN0PHq",
        "outputId": "1ead50c8-f900-4915-b0f3-ad4d18514487"
      },
      "source": [
        "print(div(tf.constant(5),tf.constant(2)))"
      ],
      "execution_count": 6,
      "outputs": [
        {
          "output_type": "stream",
          "text": [
            "tf.Tensor(2.5, shape=(), dtype=float64)\n"
          ],
          "name": "stdout"
        }
      ]
    },
    {
      "cell_type": "code",
      "metadata": {
        "id": "y5cHg-310RtC"
      },
      "source": [
        "@tf.function\r\n",
        "def matmul(a,b):\r\n",
        "  return tf.matmul(a,b)"
      ],
      "execution_count": 7,
      "outputs": []
    },
    {
      "cell_type": "code",
      "metadata": {
        "id": "yjEJ4vlL0ZeE"
      },
      "source": [
        "@tf.function\r\n",
        "def linear(m,x,c):\r\n",
        "  return add(matmul(m,x),c)"
      ],
      "execution_count": 8,
      "outputs": []
    },
    {
      "cell_type": "code",
      "metadata": {
        "id": "U_ra9TiC0ii7"
      },
      "source": [
        "m = tf.constant([[4.0,5.0,6.0]], tf.float32)"
      ],
      "execution_count": 9,
      "outputs": []
    },
    {
      "cell_type": "code",
      "metadata": {
        "colab": {
          "base_uri": "https://localhost:8080/"
        },
        "id": "3_2OmUyE0xL4",
        "outputId": "9af88bc8-f213-4f67-c6f7-a86cfdd72a50"
      },
      "source": [
        "m"
      ],
      "execution_count": 10,
      "outputs": [
        {
          "output_type": "execute_result",
          "data": {
            "text/plain": [
              "<tf.Tensor: shape=(1, 3), dtype=float32, numpy=array([[4., 5., 6.]], dtype=float32)>"
            ]
          },
          "metadata": {
            "tags": []
          },
          "execution_count": 10
        }
      ]
    },
    {
      "cell_type": "code",
      "metadata": {
        "colab": {
          "base_uri": "https://localhost:8080/"
        },
        "id": "zl2xBMve0yi1",
        "outputId": "2b840f9a-d688-4d2b-bb76-7ea1de996c60"
      },
      "source": [
        "x = tf.Variable([[100.0],[100.0],[100.0]],tf.float32)\r\n",
        "x"
      ],
      "execution_count": 11,
      "outputs": [
        {
          "output_type": "execute_result",
          "data": {
            "text/plain": [
              "<tf.Variable 'Variable:0' shape=(3, 1) dtype=float32, numpy=\n",
              "array([[100.],\n",
              "       [100.],\n",
              "       [100.]], dtype=float32)>"
            ]
          },
          "metadata": {
            "tags": []
          },
          "execution_count": 11
        }
      ]
    },
    {
      "cell_type": "code",
      "metadata": {
        "colab": {
          "base_uri": "https://localhost:8080/"
        },
        "id": "kwresBHX07Tt",
        "outputId": "16fad846-f458-4437-b956-bad842f4c5e4"
      },
      "source": [
        "c = tf.constant([[1.0]],tf.float32)\r\n",
        "c"
      ],
      "execution_count": 12,
      "outputs": [
        {
          "output_type": "execute_result",
          "data": {
            "text/plain": [
              "<tf.Tensor: shape=(1, 1), dtype=float32, numpy=array([[1.]], dtype=float32)>"
            ]
          },
          "metadata": {
            "tags": []
          },
          "execution_count": 12
        }
      ]
    },
    {
      "cell_type": "code",
      "metadata": {
        "colab": {
          "base_uri": "https://localhost:8080/"
        },
        "id": "n6yMBSH01CjG",
        "outputId": "3110d7d3-b644-4810-acef-a1ce4d6e75ae"
      },
      "source": [
        "linear(m,x,c)"
      ],
      "execution_count": 13,
      "outputs": [
        {
          "output_type": "execute_result",
          "data": {
            "text/plain": [
              "<tf.Tensor: shape=(1, 1), dtype=float32, numpy=array([[1501.]], dtype=float32)>"
            ]
          },
          "metadata": {
            "tags": []
          },
          "execution_count": 13
        }
      ]
    },
    {
      "cell_type": "code",
      "metadata": {
        "id": "22I6w8hV1EPG"
      },
      "source": [
        "@tf.function\r\n",
        "def pos_neg_check(x):\r\n",
        "  reduce_sum = tf.reduce_sum(x)\r\n",
        "\r\n",
        "  if reduce_sum > 0:\r\n",
        "    return tf.constant(1)\r\n",
        "\r\n",
        "  elif reduce_sum == 0:\r\n",
        "    return tf.constant(0)\r\n",
        "\r\n",
        "  else:\r\n",
        "    return tf.constant(-1)"
      ],
      "execution_count": 14,
      "outputs": []
    },
    {
      "cell_type": "code",
      "metadata": {
        "colab": {
          "base_uri": "https://localhost:8080/"
        },
        "id": "lrOJ6WAx3oPw",
        "outputId": "3b56ffb3-f2d4-43f2-9bf3-0e286bb8a347"
      },
      "source": [
        "pos_neg_check(tf.constant([100,100]))"
      ],
      "execution_count": 15,
      "outputs": [
        {
          "output_type": "execute_result",
          "data": {
            "text/plain": [
              "<tf.Tensor: shape=(), dtype=int32, numpy=1>"
            ]
          },
          "metadata": {
            "tags": []
          },
          "execution_count": 15
        }
      ]
    },
    {
      "cell_type": "code",
      "metadata": {
        "colab": {
          "base_uri": "https://localhost:8080/"
        },
        "id": "SANDK3TP3tJS",
        "outputId": "27159035-f192-408b-8f9b-2f53fde721c6"
      },
      "source": [
        "pos_neg_check(tf.constant([100,-100]))"
      ],
      "execution_count": 16,
      "outputs": [
        {
          "output_type": "execute_result",
          "data": {
            "text/plain": [
              "<tf.Tensor: shape=(), dtype=int32, numpy=0>"
            ]
          },
          "metadata": {
            "tags": []
          },
          "execution_count": 16
        }
      ]
    },
    {
      "cell_type": "code",
      "metadata": {
        "colab": {
          "base_uri": "https://localhost:8080/"
        },
        "id": "T4cNHDVm3vWW",
        "outputId": "6ec98ecd-e943-4371-ef46-88e94c62f5a8"
      },
      "source": [
        "pos_neg_check(tf.constant([-100,-100]))"
      ],
      "execution_count": 17,
      "outputs": [
        {
          "output_type": "execute_result",
          "data": {
            "text/plain": [
              "<tf.Tensor: shape=(), dtype=int32, numpy=-1>"
            ]
          },
          "metadata": {
            "tags": []
          },
          "execution_count": 17
        }
      ]
    },
    {
      "cell_type": "code",
      "metadata": {
        "id": "4RbbAQa731HA"
      },
      "source": [
        "num = tf.Variable(7)"
      ],
      "execution_count": 18,
      "outputs": []
    },
    {
      "cell_type": "code",
      "metadata": {
        "id": "c1rnWMh533vT"
      },
      "source": [
        "@tf.function\r\n",
        "def add_times(x):\r\n",
        "  for i in tf.range(x):\r\n",
        "    num.assign_add(x)"
      ],
      "execution_count": 19,
      "outputs": []
    },
    {
      "cell_type": "code",
      "metadata": {
        "id": "d2xg1JBu3-vk"
      },
      "source": [
        "add_times(5)"
      ],
      "execution_count": 20,
      "outputs": []
    },
    {
      "cell_type": "code",
      "metadata": {
        "colab": {
          "base_uri": "https://localhost:8080/"
        },
        "id": "mRsu8fsL4BFA",
        "outputId": "60392010-c128-490b-c921-504cffe9559f"
      },
      "source": [
        "print(num)"
      ],
      "execution_count": 21,
      "outputs": [
        {
          "output_type": "stream",
          "text": [
            "<tf.Variable 'Variable:0' shape=() dtype=int32, numpy=32>\n"
          ],
          "name": "stdout"
        }
      ]
    },
    {
      "cell_type": "code",
      "metadata": {
        "id": "bVwCQGKT4DGH"
      },
      "source": [
        "a = tf.Variable(1.0)\r\n",
        "b = tf.Variable(2.0)"
      ],
      "execution_count": 22,
      "outputs": []
    },
    {
      "cell_type": "code",
      "metadata": {
        "id": "sTqmXkVR4HQZ"
      },
      "source": [
        "@tf.function\r\n",
        "def f(x, y):\r\n",
        "  a.assign(y*b)\r\n",
        "  b.assign_add(x*a)\r\n",
        "  return a + b"
      ],
      "execution_count": 23,
      "outputs": []
    },
    {
      "cell_type": "code",
      "metadata": {
        "colab": {
          "base_uri": "https://localhost:8080/"
        },
        "id": "_Aii4TXn4PGc",
        "outputId": "a47ee029-66cd-4039-d099-2fa4e91aac5c"
      },
      "source": [
        "f(1,2)"
      ],
      "execution_count": 24,
      "outputs": [
        {
          "output_type": "execute_result",
          "data": {
            "text/plain": [
              "<tf.Tensor: shape=(), dtype=float32, numpy=10.0>"
            ]
          },
          "metadata": {
            "tags": []
          },
          "execution_count": 24
        }
      ]
    },
    {
      "cell_type": "code",
      "metadata": {
        "id": "GpFm6zuEDFi3"
      },
      "source": [
        "@tf.function\r\n",
        "def square(a):\r\n",
        "  print(\"Input a: \", a)\r\n",
        "  return a*a"
      ],
      "execution_count": 25,
      "outputs": []
    },
    {
      "cell_type": "markdown",
      "metadata": {
        "id": "anYWY-dUDRz2"
      },
      "source": [
        "Statement with Side Effects\r\n",
        "Are executed only the first time when the computation graph is traced"
      ]
    },
    {
      "cell_type": "code",
      "metadata": {
        "colab": {
          "base_uri": "https://localhost:8080/"
        },
        "id": "Ibtgz8CPDNfv",
        "outputId": "b190b478-7fdd-4311-8c31-b750d687b5b5"
      },
      "source": [
        "x = tf.Variable([[2,2],[2,2]], dtype =  tf.float32)\r\n",
        "square(x)"
      ],
      "execution_count": 26,
      "outputs": [
        {
          "output_type": "stream",
          "text": [
            "Input a:  <tf.Variable 'Variable:0' shape=(2, 2) dtype=float32>\n"
          ],
          "name": "stdout"
        },
        {
          "output_type": "execute_result",
          "data": {
            "text/plain": [
              "<tf.Tensor: shape=(2, 2), dtype=float32, numpy=\n",
              "array([[4., 4.],\n",
              "       [4., 4.]], dtype=float32)>"
            ]
          },
          "metadata": {
            "tags": []
          },
          "execution_count": 26
        }
      ]
    },
    {
      "cell_type": "code",
      "metadata": {
        "colab": {
          "base_uri": "https://localhost:8080/"
        },
        "id": "CeghQIcgDj1n",
        "outputId": "2288e785-ae7b-4e16-f700-47456f6feacd"
      },
      "source": [
        "y = tf.Variable([[2,2],[2,2]], dtype = tf.int32)\r\n",
        "square(y)"
      ],
      "execution_count": 28,
      "outputs": [
        {
          "output_type": "stream",
          "text": [
            "Input a:  <tf.Variable 'Variable:0' shape=(2, 2) dtype=int32>\n"
          ],
          "name": "stdout"
        },
        {
          "output_type": "execute_result",
          "data": {
            "text/plain": [
              "<tf.Tensor: shape=(2, 2), dtype=int32, numpy=\n",
              "array([[4, 4],\n",
              "       [4, 4]], dtype=int32)>"
            ]
          },
          "metadata": {
            "tags": []
          },
          "execution_count": 28
        }
      ]
    },
    {
      "cell_type": "code",
      "metadata": {
        "colab": {
          "base_uri": "https://localhost:8080/"
        },
        "id": "mrbYGsxzEcPy",
        "outputId": "24f796e2-136f-4744-85be-3d760838a497"
      },
      "source": [
        "z = tf.Variable([[3,3],[3,3]], dtype = tf.float32)\r\n",
        "square(z) #Reuse the Previously traced graph\r\n",
        "#Static Computation Graph is Reused to Perform Computation\r\n"
      ],
      "execution_count": 31,
      "outputs": [
        {
          "output_type": "stream",
          "text": [
            "Input a:  <tf.Variable 'Variable:0' shape=(2, 2) dtype=float32>\n"
          ],
          "name": "stdout"
        },
        {
          "output_type": "execute_result",
          "data": {
            "text/plain": [
              "<tf.Tensor: shape=(2, 2), dtype=float32, numpy=\n",
              "array([[9., 9.],\n",
              "       [9., 9.]], dtype=float32)>"
            ]
          },
          "metadata": {
            "tags": []
          },
          "execution_count": 31
        }
      ]
    },
    {
      "cell_type": "markdown",
      "metadata": {
        "id": "l5FgFa9Lb2Ss"
      },
      "source": [
        "#Concrete Function"
      ]
    },
    {
      "cell_type": "code",
      "metadata": {
        "colab": {
          "base_uri": "https://localhost:8080/"
        },
        "id": "l4oqJcCZbZlm",
        "outputId": "44b153d9-2900-49f4-a768-58a70015d13d"
      },
      "source": [
        "concrete_int_square_fn = square.get_concrete_function(tf.TensorSpec(shape = None, dtype = tf.int32))\r\n",
        "concrete_int_square_fn"
      ],
      "execution_count": 32,
      "outputs": [
        {
          "output_type": "stream",
          "text": [
            "Input a:  Tensor(\"a:0\", dtype=int32)\n"
          ],
          "name": "stdout"
        },
        {
          "output_type": "execute_result",
          "data": {
            "text/plain": [
              "<ConcreteFunction square(a) at 0x7F7AB8232450>"
            ]
          },
          "metadata": {
            "tags": []
          },
          "execution_count": 32
        }
      ]
    },
    {
      "cell_type": "code",
      "metadata": {
        "colab": {
          "base_uri": "https://localhost:8080/"
        },
        "id": "tM4_AqoIbjZ8",
        "outputId": "b7ba4a7d-42f6-474c-bdde-fe38780297f0"
      },
      "source": [
        "concrete_float_square_fn = square.get_concrete_function(tf.TensorSpec(shape = None, dtype = tf.float32))\r\n",
        "concrete_float_square_fn"
      ],
      "execution_count": 33,
      "outputs": [
        {
          "output_type": "stream",
          "text": [
            "Input a:  Tensor(\"a:0\", dtype=float32)\n"
          ],
          "name": "stdout"
        },
        {
          "output_type": "execute_result",
          "data": {
            "text/plain": [
              "<ConcreteFunction square(a) at 0x7F7AB8188050>"
            ]
          },
          "metadata": {
            "tags": []
          },
          "execution_count": 33
        }
      ]
    },
    {
      "cell_type": "code",
      "metadata": {
        "id": "KOTt0-E3dG4S"
      },
      "source": [
        ""
      ],
      "execution_count": null,
      "outputs": []
    },
    {
      "cell_type": "code",
      "metadata": {
        "colab": {
          "base_uri": "https://localhost:8080/"
        },
        "id": "AxsZOOdfbwcI",
        "outputId": "575e43ef-8b3c-4841-d4f7-3520caa2bf15"
      },
      "source": [
        "concrete_int_square_fn(tf.constant([[2,2],[2,2]], dtype = tf.int32))"
      ],
      "execution_count": 34,
      "outputs": [
        {
          "output_type": "execute_result",
          "data": {
            "text/plain": [
              "<tf.Tensor: shape=(2, 2), dtype=int32, numpy=\n",
              "array([[4, 4],\n",
              "       [4, 4]], dtype=int32)>"
            ]
          },
          "metadata": {
            "tags": []
          },
          "execution_count": 34
        }
      ]
    },
    {
      "cell_type": "code",
      "metadata": {
        "colab": {
          "base_uri": "https://localhost:8080/"
        },
        "id": "DaVJKjzNckPk",
        "outputId": "64bd15cc-f85d-4b9e-84f6-69116f21d754"
      },
      "source": [
        "concrete_float_square_fn(tf.constant([[2.1,2.1],[2.1,2.1]], dtype = tf.float32))"
      ],
      "execution_count": 35,
      "outputs": [
        {
          "output_type": "execute_result",
          "data": {
            "text/plain": [
              "<tf.Tensor: shape=(2, 2), dtype=float32, numpy=\n",
              "array([[4.4099994, 4.4099994],\n",
              "       [4.4099994, 4.4099994]], dtype=float32)>"
            ]
          },
          "metadata": {
            "tags": []
          },
          "execution_count": 35
        }
      ]
    },
    {
      "cell_type": "code",
      "metadata": {
        "colab": {
          "base_uri": "https://localhost:8080/"
        },
        "id": "ZbJPW-zCcw5e",
        "outputId": "41f3223f-9722-42da-b7ab-18510764b1e3"
      },
      "source": [
        "concrete_float_square_fn(tf.constant([[2,2],[2,2]], dtype = tf.float32))"
      ],
      "execution_count": 36,
      "outputs": [
        {
          "output_type": "execute_result",
          "data": {
            "text/plain": [
              "<tf.Tensor: shape=(2, 2), dtype=float32, numpy=\n",
              "array([[4., 4.],\n",
              "       [4., 4.]], dtype=float32)>"
            ]
          },
          "metadata": {
            "tags": []
          },
          "execution_count": 36
        }
      ]
    },
    {
      "cell_type": "code",
      "metadata": {
        "id": "KOGhEmNSc79o"
      },
      "source": [
        "@tf.function\r\n",
        "def f(x):\r\n",
        "  print(\"Python execution: \", x)\r\n",
        "  tf.print(\"Graph execution: \", x)"
      ],
      "execution_count": 37,
      "outputs": []
    },
    {
      "cell_type": "code",
      "metadata": {
        "colab": {
          "base_uri": "https://localhost:8080/"
        },
        "id": "DomNgKtFdH6U",
        "outputId": "6e58a8e4-126b-415e-b342-9231d9f7a5c4"
      },
      "source": [
        "f(1)"
      ],
      "execution_count": 38,
      "outputs": [
        {
          "output_type": "stream",
          "text": [
            "Python execution:  1\n",
            "Graph execution:  1\n"
          ],
          "name": "stdout"
        }
      ]
    },
    {
      "cell_type": "code",
      "metadata": {
        "colab": {
          "base_uri": "https://localhost:8080/"
        },
        "id": "TgaxrNt0dKC5",
        "outputId": "e25c38b4-d214-4aa0-8390-8cfaba80c047"
      },
      "source": [
        "f(1)"
      ],
      "execution_count": 39,
      "outputs": [
        {
          "output_type": "stream",
          "text": [
            "Graph execution:  1\n"
          ],
          "name": "stdout"
        }
      ]
    },
    {
      "cell_type": "code",
      "metadata": {
        "id": "-iJug2gTdQ-p"
      },
      "source": [
        "def fn_with_variable_init_eager():\r\n",
        "  a = tf.constant([[10,10],[11.,1.]])\r\n",
        "  x = tf.constant([[1.,0.],[0.,1.]])\r\n",
        "  b = tf.Variable(12.)\r\n",
        "\r\n",
        "  y = tf.matmul(a,x) + b\r\n",
        "\r\n",
        "  tf.print(\"tf_print: \", y)\r\n",
        "\r\n",
        "  return y"
      ],
      "execution_count": 41,
      "outputs": []
    },
    {
      "cell_type": "code",
      "metadata": {
        "id": "5ys5b5a_5Cpd"
      },
      "source": [
        "@tf.function\r\n",
        "def fn_with_variable_init_autograph():\r\n",
        "  a = tf.constant([[10,10],[11.,1.]])\r\n",
        "  x = tf.constant([[1.,0.],[0.,1.]])\r\n",
        "  b = tf.Variable(12.)\r\n",
        "\r\n",
        "  y = tf.matmul(a, x) + b\r\n",
        "  tf.print(\"tf_print: \", y)\r\n",
        "  \r\n",
        "  return y"
      ],
      "execution_count": 42,
      "outputs": []
    },
    {
      "cell_type": "code",
      "metadata": {
        "id": "gC4Jc0VD5XDc"
      },
      "source": [
        ""
      ],
      "execution_count": null,
      "outputs": []
    },
    {
      "cell_type": "markdown",
      "metadata": {
        "id": "59UZZM2b5cD2"
      },
      "source": [
        "eager mode: variable is created each time the function is executed"
      ]
    },
    {
      "cell_type": "code",
      "metadata": {
        "colab": {
          "base_uri": "https://localhost:8080/"
        },
        "id": "A6vGYXTA5gnU",
        "outputId": "c8c5317c-7d5f-4e87-b838-2262c4f45964"
      },
      "source": [
        "class F():\r\n",
        "  def __init__(self):\r\n",
        "    self._b = None\r\n",
        "\r\n",
        "  @tf.function\r\n",
        "  def __call__(self):\r\n",
        "    a = tf.constant([[10,10],[11.,1]])\r\n",
        "    x = tf.constant([[1.,0.],[0.,1.]])\r\n",
        "\r\n",
        "    if self._b is None:\r\n",
        "      self._b = tf.Variable(12.)\r\n",
        "\r\n",
        "    y = tf.matmul(a,x) + self._b\r\n",
        "    print(y)\r\n",
        "\r\n",
        "    tf.print(\"tf_print: \", y)\r\n",
        "    return y\r\n",
        "\r\n",
        "fn_with_variable_init_autograph = F()\r\n",
        "fn_with_variable_init_autograph()"
      ],
      "execution_count": 43,
      "outputs": [
        {
          "output_type": "stream",
          "text": [
            "Tensor(\"add:0\", shape=(2, 2), dtype=float32)\n",
            "Tensor(\"add:0\", shape=(2, 2), dtype=float32)\n",
            "tf_print:  [[22 22]\n",
            " [23 13]]\n"
          ],
          "name": "stdout"
        },
        {
          "output_type": "execute_result",
          "data": {
            "text/plain": [
              "<tf.Tensor: shape=(2, 2), dtype=float32, numpy=\n",
              "array([[22., 22.],\n",
              "       [23., 13.]], dtype=float32)>"
            ]
          },
          "metadata": {
            "tags": []
          },
          "execution_count": 43
        }
      ]
    },
    {
      "cell_type": "code",
      "metadata": {
        "colab": {
          "base_uri": "https://localhost:8080/"
        },
        "id": "0HzdMHk28N5o",
        "outputId": "c18c6987-2468-4db7-995d-a2171bfe7ead"
      },
      "source": [
        "def f():\r\n",
        "  if x > 0:\r\n",
        "    x *= x\r\n",
        "  return x\r\n",
        "\r\n",
        "print(tf.autograph.to_code(f))"
      ],
      "execution_count": 46,
      "outputs": [
        {
          "output_type": "stream",
          "text": [
            "def tf__f():\n",
            "    with ag__.FunctionScope('f', 'fscope', ag__.ConversionOptions(recursive=True, user_requested=True, optional_features=(), internal_convert_user_code=True)) as fscope:\n",
            "        do_return = False\n",
            "        retval_ = ag__.UndefinedReturnValue()\n",
            "\n",
            "        def get_state():\n",
            "            return (x,)\n",
            "\n",
            "        def set_state(vars_):\n",
            "            nonlocal x\n",
            "            (x,) = vars_\n",
            "\n",
            "        def if_body():\n",
            "            nonlocal x\n",
            "            x = ag__.ld(x)\n",
            "            x *= x\n",
            "\n",
            "        def else_body():\n",
            "            nonlocal x\n",
            "            pass\n",
            "        x = ag__.Undefined('x')\n",
            "        ag__.if_stmt((ag__.ld(x) > 0), if_body, else_body, get_state, set_state, ('x',), 1)\n",
            "        try:\n",
            "            do_return = True\n",
            "            retval_ = ag__.ld(x)\n",
            "        except:\n",
            "            do_return = False\n",
            "            raise\n",
            "        return fscope.ret(retval_, do_return)\n",
            "\n"
          ],
          "name": "stdout"
        }
      ]
    },
    {
      "cell_type": "code",
      "metadata": {
        "colab": {
          "base_uri": "https://localhost:8080/"
        },
        "id": "m4GtHUQj8ZUY",
        "outputId": "5af69ed0-7806-4617-bce6-c93e08bd0398"
      },
      "source": [
        "#When you execute functions in graph mode\r\n",
        "#Tensorflow offers you significant speedups\r\n",
        "@tf.function\r\n",
        "def g(x):\r\n",
        "  return x\r\n",
        "\r\n",
        "start = time.time()\r\n",
        "for i in tf.range(2000):\r\n",
        "  g(i)\r\n",
        "end = time.time()\r\n",
        "\r\n",
        "print(\"tf.Tensor time elapsed: \", (end - start))"
      ],
      "execution_count": 47,
      "outputs": [
        {
          "output_type": "stream",
          "text": [
            "tf.Tensor time elapsed:  0.8549554347991943\n"
          ],
          "name": "stdout"
        }
      ]
    },
    {
      "cell_type": "code",
      "metadata": {
        "id": "jVMJp1gt81FS"
      },
      "source": [
        "#To show how significanly faster\r\n",
        "#disable logging\r\n",
        "warnings.filterwarnings('ignore')\r\n",
        "logging.getLogger('tensorflow').disabled = True"
      ],
      "execution_count": 48,
      "outputs": []
    },
    {
      "cell_type": "code",
      "metadata": {
        "colab": {
          "base_uri": "https://localhost:8080/"
        },
        "id": "hUgzcxER9DAv",
        "outputId": "246ed9b7-452f-43f9-8f5d-485f4c0b64d4"
      },
      "source": [
        "start = time.time()\r\n",
        "for i in range(2000):\r\n",
        "  g(i)\r\n",
        "end = time.time()\r\n",
        "print(\"Native type time elapsed: \", (end - start))"
      ],
      "execution_count": 50,
      "outputs": [
        {
          "output_type": "stream",
          "text": [
            "Native type time elapsed:  7.787652492523193\n"
          ],
          "name": "stdout"
        }
      ]
    },
    {
      "cell_type": "code",
      "metadata": {
        "id": "yXxFaxKZ9MaW"
      },
      "source": [
        ""
      ],
      "execution_count": null,
      "outputs": []
    }
  ]
}